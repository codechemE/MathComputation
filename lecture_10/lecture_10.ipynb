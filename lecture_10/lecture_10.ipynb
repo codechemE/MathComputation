{
 "cells": [
  {
   "cell_type": "code",
   "execution_count": 4,
   "id": "initial_id",
   "metadata": {
    "collapsed": true,
    "ExecuteTime": {
     "end_time": "2024-02-29T18:18:45.326483700Z",
     "start_time": "2024-02-29T18:18:45.320977900Z"
    }
   },
   "outputs": [],
   "source": [
    "import numpy as np\n",
    "from numpy import linalg\n",
    "A = np.array([[1, 1, 0], [0, 1, 0], [1, 0, 1]])"
   ]
  },
  {
   "cell_type": "markdown",
   "source": [
    "\n"
   ],
   "metadata": {
    "collapsed": false
   },
   "id": "475f4184070785f8"
  },
  {
   "cell_type": "code",
   "execution_count": 5,
   "outputs": [],
   "source": [
    "b = np.array([[1],[2],[1]])\n",
    "A_b = np.concatenate((A, b), axis=1)"
   ],
   "metadata": {
    "collapsed": false,
    "ExecuteTime": {
     "end_time": "2024-02-29T18:18:53.674710200Z",
     "start_time": "2024-02-29T18:18:53.664488Z"
    }
   },
   "id": "46353d059a8ab3bc"
  },
  {
   "cell_type": "code",
   "execution_count": 8,
   "outputs": [
    {
     "data": {
      "text/plain": "3"
     },
     "execution_count": 8,
     "metadata": {},
     "output_type": "execute_result"
    }
   ],
   "source": [
    "det_A = linalg.det(A)\n",
    "rank_A = linalg.matrix_rank(A)\n",
    "rankA_b = linalg.matrix_rank(A_b)\n",
    "rankA_b"
   ],
   "metadata": {
    "collapsed": false,
    "ExecuteTime": {
     "end_time": "2024-02-29T18:20:26.870769100Z",
     "start_time": "2024-02-29T18:20:26.866625700Z"
    }
   },
   "id": "6e6d7d156f430cad"
  },
  {
   "cell_type": "code",
   "execution_count": 10,
   "outputs": [
    {
     "data": {
      "text/plain": "(3, 3)"
     },
     "execution_count": 10,
     "metadata": {},
     "output_type": "execute_result"
    }
   ],
   "source": [
    "order = A.shape\n",
    "order\n"
   ],
   "metadata": {
    "collapsed": false,
    "ExecuteTime": {
     "end_time": "2024-02-29T18:21:22.682784100Z",
     "start_time": "2024-02-29T18:21:22.668780500Z"
    }
   },
   "id": "6245abfc6a311418"
  },
  {
   "cell_type": "code",
   "execution_count": 11,
   "outputs": [],
   "source": [
    "#check that rank A = rank A_b = order A\n",
    "#use np.allclose\n"
   ],
   "metadata": {
    "collapsed": false,
    "ExecuteTime": {
     "end_time": "2024-02-29T18:22:38.728760800Z",
     "start_time": "2024-02-29T18:22:38.720251200Z"
    }
   },
   "id": "2a82398068f6de13"
  },
  {
   "cell_type": "code",
   "execution_count": 12,
   "outputs": [
    {
     "data": {
      "text/plain": "4.048917339522305"
     },
     "execution_count": 12,
     "metadata": {},
     "output_type": "execute_result"
    }
   ],
   "source": [
    "#What is the condition num?\n",
    "cond_A = linalg.cond(A)\n",
    "cond_A"
   ],
   "metadata": {
    "collapsed": false,
    "ExecuteTime": {
     "end_time": "2024-02-29T18:23:49.643495800Z",
     "start_time": "2024-02-29T18:23:49.634273600Z"
    }
   },
   "id": "c92fd9d8ea4daf42"
  },
  {
   "cell_type": "code",
   "execution_count": 13,
   "outputs": [
    {
     "data": {
      "text/plain": "array([[-1.],\n       [ 2.],\n       [ 2.]])"
     },
     "execution_count": 13,
     "metadata": {},
     "output_type": "execute_result"
    }
   ],
   "source": [
    "#over 100 is not well conditioned\n",
    "x = linalg.inv(A)@b\n",
    "x\n",
    "#computation heavy, time too"
   ],
   "metadata": {
    "collapsed": false,
    "ExecuteTime": {
     "end_time": "2024-02-29T18:25:02.227168700Z",
     "start_time": "2024-02-29T18:25:02.191812300Z"
    }
   },
   "id": "b8f10c66c131910"
  },
  {
   "cell_type": "code",
   "execution_count": 3,
   "outputs": [
    {
     "name": "stdout",
     "output_type": "stream",
     "text": [
      "[   2  502 1002 1502 2002 2502 3002 3502 4002 4502]\n"
     ]
    },
    {
     "data": {
      "text/plain": "<Figure size 640x480 with 1 Axes>",
      "image/png": "[encoded data removed]"
     },
     "metadata": {},
     "output_type": "display_data"
    }
   ],
   "source": [
    "import time\n",
    "import numpy as np\n",
    "from numpy import linalg\n",
    "\n",
    "t=[]\n",
    "I = np.array(range(2,5001,500))\n",
    "print(I)\n",
    "\n",
    "for i in I:\n",
    "    m = np.eye(i)\n",
    "    t0 = time.time()\n",
    "    linalg.inv(m)\n",
    "    t+=[time.time()-t0]\n",
    "    \n",
    "%matplotlib inline\n",
    "import matplotlib.pyplot as plt\n",
    "plt.plot(I,t)\n",
    "plt.xlabel(\"N\")\n",
    "plt.ylabel(\"Time to invert in s\")\n",
    "plt.show()"
   ],
   "metadata": {
    "collapsed": false,
    "ExecuteTime": {
     "end_time": "2024-02-29T18:47:01.024095600Z",
     "start_time": "2024-02-29T18:46:50.533392200Z"
    }
   },
   "id": "9617396c458e23b1"
  },
  {
   "cell_type": "code",
   "execution_count": 8,
   "outputs": [
    {
     "ename": "ValueError",
     "evalue": "solve1: Input operand 1 has a mismatch in its core dimension 0, with gufunc signature (m,m),(m)->(m) (size 10 is different from 2)",
     "output_type": "error",
     "traceback": [
      "\u001B[1;31m---------------------------------------------------------------------------\u001B[0m",
      "\u001B[1;31mValueError\u001B[0m                                Traceback (most recent call last)",
      "Cell \u001B[1;32mIn[8], line 11\u001B[0m\n\u001B[0;32m      9\u001B[0m     A \u001B[38;5;241m=\u001B[39m np\u001B[38;5;241m.\u001B[39meye(i)\n\u001B[0;32m     10\u001B[0m     t0 \u001B[38;5;241m=\u001B[39m time\u001B[38;5;241m.\u001B[39mtime()\n\u001B[1;32m---> 11\u001B[0m     \u001B[43mlinalg\u001B[49m\u001B[38;5;241;43m.\u001B[39;49m\u001B[43msolve\u001B[49m\u001B[43m(\u001B[49m\u001B[43mA\u001B[49m\u001B[43m,\u001B[49m\u001B[43mI\u001B[49m\u001B[43m)\u001B[49m\n\u001B[0;32m     12\u001B[0m     t\u001B[38;5;241m+\u001B[39m\u001B[38;5;241m=\u001B[39m[time\u001B[38;5;241m.\u001B[39mtime()\u001B[38;5;241m-\u001B[39mt0]\n\u001B[0;32m     14\u001B[0m get_ipython()\u001B[38;5;241m.\u001B[39mrun_line_magic(\u001B[38;5;124m'\u001B[39m\u001B[38;5;124mmatplotlib\u001B[39m\u001B[38;5;124m'\u001B[39m, \u001B[38;5;124m'\u001B[39m\u001B[38;5;124minline\u001B[39m\u001B[38;5;124m'\u001B[39m)\n",
      "File \u001B[1;32m~\\Desktop\\MathComputation\\venv\\Lib\\site-packages\\numpy\\linalg\\linalg.py:409\u001B[0m, in \u001B[0;36msolve\u001B[1;34m(a, b)\u001B[0m\n\u001B[0;32m    407\u001B[0m signature \u001B[38;5;241m=\u001B[39m \u001B[38;5;124m'\u001B[39m\u001B[38;5;124mDD->D\u001B[39m\u001B[38;5;124m'\u001B[39m \u001B[38;5;28;01mif\u001B[39;00m isComplexType(t) \u001B[38;5;28;01melse\u001B[39;00m \u001B[38;5;124m'\u001B[39m\u001B[38;5;124mdd->d\u001B[39m\u001B[38;5;124m'\u001B[39m\n\u001B[0;32m    408\u001B[0m extobj \u001B[38;5;241m=\u001B[39m get_linalg_error_extobj(_raise_linalgerror_singular)\n\u001B[1;32m--> 409\u001B[0m r \u001B[38;5;241m=\u001B[39m \u001B[43mgufunc\u001B[49m\u001B[43m(\u001B[49m\u001B[43ma\u001B[49m\u001B[43m,\u001B[49m\u001B[43m \u001B[49m\u001B[43mb\u001B[49m\u001B[43m,\u001B[49m\u001B[43m \u001B[49m\u001B[43msignature\u001B[49m\u001B[38;5;241;43m=\u001B[39;49m\u001B[43msignature\u001B[49m\u001B[43m,\u001B[49m\u001B[43m \u001B[49m\u001B[43mextobj\u001B[49m\u001B[38;5;241;43m=\u001B[39;49m\u001B[43mextobj\u001B[49m\u001B[43m)\u001B[49m\n\u001B[0;32m    411\u001B[0m \u001B[38;5;28;01mreturn\u001B[39;00m wrap(r\u001B[38;5;241m.\u001B[39mastype(result_t, copy\u001B[38;5;241m=\u001B[39m\u001B[38;5;28;01mFalse\u001B[39;00m))\n",
      "\u001B[1;31mValueError\u001B[0m: solve1: Input operand 1 has a mismatch in its core dimension 0, with gufunc signature (m,m),(m)->(m) (size 10 is different from 2)"
     ]
    }
   ],
   "source": [
    "import time\n",
    "import numpy as np\n",
    "from numpy import linalg\n",
    "\n",
    "t=[]\n",
    "I = np.array(range(2,5001,500))\n",
    "\n",
    "for i in I:\n",
    "    A = np.eye(i)\n",
    "    t0 = time.time()\n",
    "    linalg.solve(A,I)\n",
    "    t+=[time.time()-t0]\n",
    "    \n",
    "%matplotlib inline\n",
    "import matplotlib.pyplot as plt\n",
    "plt.plot(I,t)\n",
    "plt.xlabel(\"N\")\n",
    "plt.ylabel(\"Time to invert in s\")\n",
    "plt.show()"
   ],
   "metadata": {
    "collapsed": false,
    "ExecuteTime": {
     "end_time": "2024-02-29T18:48:52.754374Z",
     "start_time": "2024-02-29T18:48:52.722042Z"
    }
   },
   "id": "9de19f38c1e72fbd"
  },
  {
   "cell_type": "code",
   "execution_count": null,
   "outputs": [],
   "source": [
    "A = np.array([[1, 1, 0], [0, 1, 0], [1, 0, 1]])\n",
    "b = np.array([[1], [2], [1]])\n",
    "# no solution\n"
   ],
   "metadata": {
    "collapsed": false
   },
   "id": "30e18f9506a8ca37"
  },
  {
   "cell_type": "raw",
   "source": [
    "#infinite solutions\n",
    "\n",
    "2x + y = 1\n",
    "4x+2y=2\n",
    "x+z=1\n"
   ],
   "metadata": {
    "collapsed": false
   },
   "id": "f9a4912c55ee4660"
  },
  {
   "cell_type": "code",
   "execution_count": 12,
   "outputs": [
    {
     "name": "stdout",
     "output_type": "stream",
     "text": [
      "[[10.          3.          1.        ]\n",
      " [ 0.          9.1         1.7       ]\n",
      " [ 0.          0.          9.58241758]]\n"
     ]
    }
   ],
   "source": [
    "#Guassian Elimination method\n",
    "\n",
    "g = np.array([[10,3,1],[3,10,2],[1,2,10]], float)\n",
    "h = np.array([19,29,35])\n",
    "#specify length of the loop\n",
    "n = len(h)\n",
    "x = np.zeros(n, float)\n",
    "\n",
    "#stage 1: elimination stage\n",
    "\n",
    "for k in range(0,n-1):\n",
    "    for i in range(k+1,n):\n",
    "        lam = g[i,k]/g[k,k]\n",
    "        h[i] = h[i] - lam*h[k]\n",
    "        for j in range(k,n):\n",
    "            g[i,j] = g[i,j]-lam*g[k,j]\n",
    "print(g)\n",
    "\n",
    "\n",
    "\n"
   ],
   "metadata": {
    "collapsed": false,
    "ExecuteTime": {
     "end_time": "2024-02-29T19:23:12.772339400Z",
     "start_time": "2024-02-29T19:23:12.746570200Z"
    }
   },
   "id": "849f4c1dfea5b777"
  },
  {
   "cell_type": "code",
   "execution_count": null,
   "outputs": [],
   "source": [
    "s"
   ],
   "metadata": {
    "collapsed": false
   },
   "id": "41232ca09c63b3c8"
  }
 ],
 "metadata": {
  "kernelspec": {
   "display_name": "Python 3",
   "language": "python",
   "name": "python3"
  },
  "language_info": {
   "codemirror_mode": {
    "name": "ipython",
    "version": 2
   },
   "file_extension": ".py",
   "mimetype": "text/x-python",
   "name": "python",
   "nbconvert_exporter": "python",
   "pygments_lexer": "ipython2",
   "version": "2.7.6"
  }
 },
 "nbformat": 4,
 "nbformat_minor": 5
}
