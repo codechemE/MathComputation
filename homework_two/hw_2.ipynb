{
 "cells": [
  {
   "cell_type": "code",
   "execution_count": 4,
   "id": "initial_id",
   "metadata": {
    "collapsed": true,
    "ExecuteTime": {
     "end_time": "2024-03-05T03:22:18.839870900Z",
     "start_time": "2024-03-05T03:22:18.828912500Z"
    }
   },
   "outputs": [],
   "source": [
    "import numpy as np\n",
    "from numpy import linalg"
   ]
  },
  {
   "cell_type": "markdown",
   "source": [
    "Problem 1\n"
   ],
   "metadata": {
    "collapsed": false
   },
   "id": "41f7699d55ccbbe4"
  },
  {
   "cell_type": "code",
   "execution_count": null,
   "outputs": [],
   "source": [
    "forces = np.array([150, 200, 250, 300, 350])\n",
    "x = .1\n",
    "k = forces/x\n",
    "print(k)"
   ],
   "metadata": {
    "collapsed": false
   },
   "id": "e7b7c87ade1f8e73"
  },
  {
   "cell_type": "markdown",
   "source": [
    "Problem 2"
   ],
   "metadata": {
    "collapsed": false
   },
   "id": "6894a01c05e6d733"
  },
  {
   "cell_type": "code",
   "execution_count": 31,
   "outputs": [
    {
     "name": "stdout",
     "output_type": "stream",
     "text": [
      "[668.8, 1003.1999999999999, 1337.6]\n"
     ]
    }
   ],
   "source": [
    "pairs = [(20, 100), (30, 150), (40,200)]\n",
    "m = 2 # kilograms\n",
    "specific_heat = 4.18 #J/(kg*K)\n",
    "heat_process = []\n",
    "\n",
    "def heat(mass,c,delta_T):\n",
    "    return mass*c*delta_T\n",
    "\n",
    "for pair in pairs:\n",
    "    diff = pair[1] - pair[0]\n",
    "    heat_process.append(heat(2,4.18,diff))\n",
    "\n",
    "print(heat_process)\n"
   ],
   "metadata": {
    "collapsed": false,
    "ExecuteTime": {
     "end_time": "2024-02-26T21:31:52.813876300Z",
     "start_time": "2024-02-26T21:31:52.795869200Z"
    }
   },
   "id": "15eb380d1f8e2feb"
  },
  {
   "cell_type": "markdown",
   "source": [],
   "metadata": {
    "collapsed": false
   },
   "id": "99ac5beb6db2f9d9"
  },
  {
   "cell_type": "markdown",
   "source": [
    "Problem 3"
   ],
   "metadata": {
    "collapsed": false
   },
   "id": "4416e1d36af0426e"
  },
  {
   "cell_type": "code",
   "execution_count": 6,
   "outputs": [
    {
     "name": "stdout",
     "output_type": "stream",
     "text": [
      "(3, 4)\n"
     ]
    }
   ],
   "source": [
    "a = np.random.randint(9, size = (3, 4))\n",
    "print(a.shape)"
   ],
   "metadata": {
    "collapsed": false,
    "ExecuteTime": {
     "end_time": "2024-02-27T18:40:55.778451600Z",
     "start_time": "2024-02-27T18:40:55.768811700Z"
    }
   },
   "id": "da34ed7fdac17da9"
  },
  {
   "cell_type": "code",
   "execution_count": 4,
   "outputs": [
    {
     "name": "stdout",
     "output_type": "stream",
     "text": [
      "4.5\n"
     ]
    }
   ],
   "source": [
    "a = np.random.randint(9, size=(3, 4))\n",
    "print(a.mean())"
   ],
   "metadata": {
    "collapsed": false,
    "ExecuteTime": {
     "end_time": "2024-02-27T18:24:23.317390700Z",
     "start_time": "2024-02-27T18:24:23.312884100Z"
    }
   },
   "id": "2f524fce75b1b4c4"
  },
  {
   "cell_type": "code",
   "execution_count": 3,
   "outputs": [
    {
     "name": "stdout",
     "output_type": "stream",
     "text": [
      "0 8\n"
     ]
    }
   ],
   "source": [
    "a = np.random.randint(9, size=(3,4))\n",
    "print(a.min(),a.max())"
   ],
   "metadata": {
    "collapsed": false,
    "ExecuteTime": {
     "end_time": "2024-02-27T18:23:28.984096400Z",
     "start_time": "2024-02-27T18:23:28.982590300Z"
    }
   },
   "id": "1668a64f858b31e9"
  },
  {
   "cell_type": "code",
   "execution_count": null,
   "outputs": [],
   "source": [
    "#problem 4 - pandas\n",
    "import pandas as pd\n",
    "\n"
   ],
   "metadata": {
    "collapsed": false
   },
   "id": "e0cc95de95aa731f"
  },
  {
   "cell_type": "markdown",
   "source": [
    "Problem 7a"
   ],
   "metadata": {
    "collapsed": false
   },
   "id": "e5b0b1a4f7bc846a"
  },
  {
   "cell_type": "code",
   "execution_count": 25,
   "outputs": [
    {
     "name": "stdout",
     "output_type": "stream",
     "text": [
      "[[  1.   1.  -2.  -4.]\n",
      " [  0.   1.   0.  -1.]\n",
      " [ -1.  -1.   3.   6.]\n",
      " [  2.   1.  -6. -10.]]\n"
     ]
    }
   ],
   "source": [
    "a = np.array([[3, -2, 0, -1],[0, 2, 2, 1],[1,-2,-3,-2],[0, 1, 2, 1]])\n",
    "inverse = np.linalg.inv(a)\n",
    "print(inverse)"
   ],
   "metadata": {
    "collapsed": false,
    "ExecuteTime": {
     "end_time": "2024-02-26T21:12:41.744496600Z",
     "start_time": "2024-02-26T21:12:41.730958400Z"
    }
   },
   "id": "4d7af318ca432fde"
  },
  {
   "cell_type": "markdown",
   "source": [
    "Problem 7b"
   ],
   "metadata": {
    "collapsed": false
   },
   "id": "56b1af00b6b350"
  },
  {
   "cell_type": "code",
   "execution_count": 26,
   "outputs": [
    {
     "name": "stdout",
     "output_type": "stream",
     "text": [
      "4\n"
     ]
    }
   ],
   "source": [
    "a = np.array([[3, -2, 0, -1],[0, 2, 2, 1],[1,-2,-3,-2],[0, 1, 2, 1]])\n",
    "print(np.linalg.matrix_rank(a))"
   ],
   "metadata": {
    "collapsed": false,
    "ExecuteTime": {
     "end_time": "2024-02-26T21:14:39.940051500Z",
     "start_time": "2024-02-26T21:14:39.910910800Z"
    }
   },
   "id": "c99fb3a450912b07"
  },
  {
   "cell_type": "markdown",
   "source": [
    "Problem 7c"
   ],
   "metadata": {
    "collapsed": false
   },
   "id": "4bddcfcc34b563b2"
  },
  {
   "cell_type": "code",
   "execution_count": 6,
   "outputs": [
    {
     "name": "stdout",
     "output_type": "stream",
     "text": [
      "Matrix is non-singular. We can invert it.\n"
     ]
    }
   ],
   "source": [
    "a = np.array([[3, -2, 0, -1],[0, 2, 2, 1],[1,-2,-3,-2],[0, 1, 2, 1]])\n",
    "det_a = np.linalg.det(a)\n",
    "\n",
    "if det_a == 0:\n",
    "    print(f\"Matrix is singular. It cannot be inverted.\")\n",
    "else:\n",
    "    print(f\"Matrix is non-singular. We can invert it.\")"
   ],
   "metadata": {
    "collapsed": false,
    "ExecuteTime": {
     "end_time": "2024-03-05T02:33:59.508249900Z",
     "start_time": "2024-03-05T02:33:59.477734300Z"
    }
   },
   "id": "54dee24df39b9f1c"
  },
  {
   "cell_type": "markdown",
   "source": [
    "Problem 7d"
   ],
   "metadata": {
    "collapsed": false
   },
   "id": "13ce82d22dcffe62"
  },
  {
   "cell_type": "code",
   "execution_count": 4,
   "outputs": [
    {
     "name": "stdout",
     "output_type": "stream",
     "text": [
      "88.09012296703409\n"
     ]
    }
   ],
   "source": [
    "c = np.array([[3, -2, 0, -1],[0, 2, 2, 1],[1,-2,-3,-2],[0, 1, 2, 1]]) \n",
    "print(np.linalg.cond(c))\n"
   ],
   "metadata": {
    "collapsed": false,
    "ExecuteTime": {
     "end_time": "2024-03-05T02:27:39.094903800Z",
     "start_time": "2024-03-05T02:27:39.079141100Z"
    }
   },
   "id": "b4a2fb71e5e6d2a"
  },
  {
   "cell_type": "markdown",
   "source": [
    "The above matrix is ill conditioned, we cannot trust the results of the solver function.\n",
    "\n"
   ],
   "metadata": {
    "collapsed": false
   },
   "id": "2178b4e13ea829e3"
  },
  {
   "cell_type": "markdown",
   "source": [
    "Problem 8a"
   ],
   "metadata": {
    "collapsed": false
   },
   "id": "fb834b8b77f8373"
  },
  {
   "cell_type": "code",
   "execution_count": 5,
   "outputs": [
    {
     "name": "stdout",
     "output_type": "stream",
     "text": [
      "[-4.   4.5]\n"
     ]
    }
   ],
   "source": [
    "a = np.array([[1,2],[3,4]])\n",
    "b = np.array([5,6])\n",
    "x = np.linalg.solve(a,b)\n",
    "print(x)"
   ],
   "metadata": {
    "collapsed": false,
    "ExecuteTime": {
     "end_time": "2024-03-05T03:22:25.894368800Z",
     "start_time": "2024-03-05T03:22:25.881826200Z"
    }
   },
   "id": "235907fa5fd723de"
  },
  {
   "cell_type": "markdown",
   "source": [
    "Problem 8b"
   ],
   "metadata": {
    "collapsed": false
   },
   "id": "212db37d9090086c"
  },
  {
   "cell_type": "code",
   "execution_count": 8,
   "outputs": [
    {
     "name": "stdout",
     "output_type": "stream",
     "text": [
      "[2.73913043 3.08695652 2.43478261]\n"
     ]
    }
   ],
   "source": [
    "a = np.array([[2, 3, -4],[1, -2, 1],[3, -1, 2]])\n",
    "b = np.array([5, -1, 10])\n",
    "x = np.linalg.solve(a, b)\n",
    "print(x)"
   ],
   "metadata": {
    "collapsed": false,
    "ExecuteTime": {
     "end_time": "2024-03-05T02:38:59.015170100Z",
     "start_time": "2024-03-05T02:38:59.002263900Z"
    }
   },
   "id": "fa5b692bb40fd2fd"
  },
  {
   "cell_type": "markdown",
   "source": [],
   "metadata": {
    "collapsed": false
   },
   "id": "dddd7aa3bd32061c"
  }
 ],
 "metadata": {
  "kernelspec": {
   "display_name": "Python 3",
   "language": "python",
   "name": "python3"
  },
  "language_info": {
   "codemirror_mode": {
    "name": "ipython",
    "version": 2
   },
   "file_extension": ".py",
   "mimetype": "text/x-python",
   "name": "python",
   "nbconvert_exporter": "python",
   "pygments_lexer": "ipython2",
   "version": "2.7.6"
  }
 },
 "nbformat": 4,
 "nbformat_minor": 5
}
