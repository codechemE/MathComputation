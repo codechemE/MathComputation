{
 "cells": [
  {
   "cell_type": "markdown",
   "source": [
    "Problem 1"
   ],
   "metadata": {
    "collapsed": false
   },
   "id": "b7c7c8ea637dbde7"
  },
  {
   "cell_type": "markdown",
   "source": [
    "matrix of coefficients\n",
    "let Ca be x Cc be y and Cd be w\n",
    "\n",
    "Ca0 is given, Cc0 is zero, so is Cd\n",
    "\n",
    "solve for x, y, z, using a solver, these are the concentrations"
   ],
   "metadata": {
    "collapsed": false
   },
   "id": "1b227056b4d5f70a"
  },
  {
   "cell_type": "code",
   "execution_count": 1,
   "outputs": [
    {
     "name": "stdout",
     "output_type": "stream",
     "text": [
      "Ca equals 0.32592592592592595 mol / L\n",
      "Cc equals 0.15298563869992443 mol / L\n",
      "Cd equals 1.7210884353741496 mol / L\n"
     ]
    }
   ],
   "source": [
    "import numpy as np\n",
    "    \n",
    "\n",
    "\n",
    "def three_by_three_method(Ca0, Cc0, Cd0, k1, k2, tau):\n",
    "    a2 = np.array([[1 + k1 * tau, 0, 0],\n",
    "                  [-1 * k1 * tau, k2 * tau + 1, 0],\n",
    "                  [0, -1 * k2 * tau, 1]])\n",
    "    b2 = [Ca0, Cc0, Cd0]\n",
    "    return np.linalg.solve(a2, b2)\n",
    "\n",
    "\n",
    "sol = three_by_three_method(2.2, 0, 0, 2.3 / 60, 4.5 / 60, 2.5 * 60)\n",
    "print(f'Ca equals {sol[0]} mol / L')\n",
    "print(f'Cc equals {sol[1]} mol / L')\n",
    "print(f'Cd equals {sol[2]} mol / L')\n"
   ],
   "metadata": {
    "collapsed": false,
    "ExecuteTime": {
     "end_time": "2024-04-09T00:25:46.699888300Z",
     "start_time": "2024-04-09T00:25:46.480021900Z"
    }
   },
   "id": "38309aa02d5dcb74"
  },
  {
   "cell_type": "markdown",
   "source": [],
   "metadata": {
    "collapsed": false
   },
   "id": "6877360b2026e4dc"
  },
  {
   "cell_type": "code",
   "execution_count": 2,
   "outputs": [],
   "source": [],
   "metadata": {
    "collapsed": false,
    "ExecuteTime": {
     "end_time": "2024-03-22T17:03:59.293063100Z",
     "start_time": "2024-03-22T17:03:59.288054800Z"
    }
   },
   "id": "5fd016da4ea9d589"
  },
  {
   "cell_type": "raw",
   "source": [
    "Problem 2"
   ],
   "metadata": {
    "collapsed": false
   },
   "id": "a4ae020963999b85"
  },
  {
   "cell_type": "code",
   "execution_count": 78,
   "outputs": [
    {
     "name": "stdout",
     "output_type": "stream",
     "text": [
      "Matrix is not singular\n",
      "Matrix is well conditioned\n",
      "You will have a unique solution\n",
      "D2 is 29.834254143646408 kg-mol / min\n",
      "B2 is 14.917127071823225 kg-mol / min\n",
      "D3 is 13.701657458563517 kg-mol / min\n",
      "B4 is 21.546961325966844 kg-mol / min\n",
      "D1 is 44.751381215469635 kg-mol / min\n",
      "B1 is 35.248618784530365 kg-mol / min\n",
      "F total is 80.0kg-mol / min \n",
      "The composition of D1 is  [ 4.77348066  4.62430939 22.52486188 12.82872928]\n",
      "The composition of B1 is  [ 7.22651934 15.37569061  9.47513812  3.17127072]\n",
      "44.751381215469635\n",
      "35.248618784530365\n"
     ]
    }
   ],
   "source": [
    "import numpy as np\n",
    "\n",
    "species_mol_frac = np.array([[7, 18, 15, 24],[3, 25, 10, 65], [55, 41, 55, 9], [35, 16, 20, 2]])\n",
    "\n",
    "# concatenate the mol frac. vectors into a matrix\n",
    "\n",
    "# initial flow rate vector a.k.a b vector\n",
    "fa0 = 80\n",
    "b = np.array([15, 25, 40, 20]) * fa0\n",
    "# reminder to self: doing this as a list adds 80 more elements, oops!\n",
    "\n",
    "if np.linalg.det(species_mol_frac) == 0:\n",
    "    print(\"Matrix is singular\")\n",
    "else:\n",
    "    print(\"Matrix is not singular\")\n",
    "\n",
    "if np.linalg.cond(species_mol_frac) >= 1000:\n",
    "    print(\"Matrix is ill-conditioned\")\n",
    "else:\n",
    "    print(\"Matrix is well conditioned\")\n",
    "\n",
    "def degrees_freedom(n, m):\n",
    "    if n == m:\n",
    "        print(\"You will have a unique solution\")\n",
    "    elif n < m:\n",
    "        print(\"Too many unknowns, solution will not converge. \")\n",
    "    else:\n",
    "        print(\"You have infinite solutions\")\n",
    "      \n",
    "num_eqs = len(b)\n",
    "num_unknowns = len(species_mol_frac)\n",
    "\n",
    "degrees_freedom(num_eqs, num_unknowns)\n",
    "    \n",
    "z = np.linalg.solve(species_mol_frac, b)\n",
    "\n",
    "d2 = z[0]\n",
    "b2 = z[1]\n",
    "d3 = z[2]\n",
    "b3 = z[3]\n",
    "\n",
    "print(f'D2 is {d2} kg-mol / min')\n",
    "print(f'B2 is {b2} kg-mol / min')\n",
    "print(f'D3 is {d3} kg-mol / min')\n",
    "print(f'B4 is {b3} kg-mol / min')\n",
    "print(f'D1 is {d2 + b2} kg-mol / min')\n",
    "print(f'B1 is {d3 + b3} kg-mol / min')\n",
    "print(f'F total is {np.sum(z)}kg-mol / min ')\n",
    "\n",
    "answer = np.transpose(species_mol_frac)\n",
    "print(f'The composition of D1 is  {(d2/100)*answer[0]+(b2/100)*answer[1]}')\n",
    "print(f'The composition of B1 is  {(d3/100)*answer[2]+(b3/100)*answer[3]}')\n",
    "print(np.sum((d2/100)*answer[2]+(b2/100)*answer[3]))\n",
    "print(np.sum((d3/100)*answer[2]+(b3/100)*answer[3]))"
   ],
   "metadata": {
    "collapsed": false,
    "ExecuteTime": {
     "end_time": "2024-03-23T20:24:54.966675900Z",
     "start_time": "2024-03-23T20:24:54.961002100Z"
    }
   },
   "id": "8d7ba13825e2cf9b"
  },
  {
   "cell_type": "raw",
   "source": [
    "Problem 3\n",
    "\n"
   ],
   "metadata": {
    "collapsed": false
   },
   "id": "742ea706af997e26"
  },
  {
   "cell_type": "code",
   "execution_count": 27,
   "outputs": [
    {
     "name": "stdout",
     "output_type": "stream",
     "text": [
      "[2.2 1.4 1.2]\n",
      "[2.2 1.4 1.2]\n",
      "The answers match\n"
     ]
    }
   ],
   "source": [
    "import numpy as np\n",
    "from numpy import linalg\n",
    "\n",
    "\n",
    "def sol_vector(A, b):\n",
    "    n = len(b)\n",
    "    # create solution vector x\n",
    "    x = np.zeros(n, float)\n",
    "    for k in range(0, n - 1):  # loop for pivot eq.\n",
    "        if A[k, k] == 0:  # check if the diagonal element is 0\n",
    "            for j in range(n):  # if so then for all the columns\n",
    "                A[k, j], A[k + 1, j] = A[k + 1, j], A[k, j]  # swap the elements for the row below\n",
    "            b[k], b[k + 1] = b[k + 1], b[k]  # swap vector b but outside the column loop\n",
    "        for i in range(k + 1, n):  # loop for equations below pivot eq\n",
    "            lam = A[i, k] / A[k, k]\n",
    "            b[i] = b[i] - lam * b[k]\n",
    "            # print(\"b vector\",b[i])\n",
    "            for j in range(k, n):\n",
    "                A[i, j] = A[i, j] - lam * A[k, j]\n",
    "            # print(\"A matrix\",A[i,j])\n",
    "\n",
    "    # Stage 2 back substitution\n",
    "    x[n - 1] = b[n - 1] / A[n - 1, n - 1]\n",
    "    for i in range(n - 2, -1, -1):\n",
    "        # print(i)\n",
    "        terms = 0\n",
    "        for j in range(i + 1, n):\n",
    "            terms += A[i, j] * x[j]\n",
    "        x[i] = (b[i] - terms) / A[i, i]\n",
    "    return x\n",
    "\n",
    "\n",
    "a1 = np.array([[0, 2, 1],\n",
    "               [1, 1, 2],\n",
    "               [2, 1, 1]], dtype=float)\n",
    "b1 = np.array([4, 6, 7])\n",
    "print(sol_vector(a1, b1))\n",
    "print(np.linalg.solve(a1, b1))\n",
    "print(f'The answers match')"
   ],
   "metadata": {
    "collapsed": false,
    "ExecuteTime": {
     "end_time": "2024-03-22T21:20:39.267045900Z",
     "start_time": "2024-03-22T21:20:39.247026500Z"
    }
   },
   "id": "33ab8871744af79f"
  },
  {
   "cell_type": "raw",
   "source": [
    "Problem 4"
   ],
   "metadata": {
    "collapsed": false
   },
   "id": "2ad5de7e918d9dc9"
  },
  {
   "cell_type": "code",
   "execution_count": 29,
   "outputs": [
    {
     "name": "stdout",
     "output_type": "stream",
     "text": [
      "[ 1.24677899 -2.26726131 -2.38586059 -0.85398084  3.77271226]\n"
     ]
    }
   ],
   "source": [
    "import numpy as np\n",
    "from numpy import linalg\n",
    "\n",
    "\n",
    "def sol_vector(A, b):\n",
    "    n = len(b)\n",
    "    # create solution vector x\n",
    "    x = np.zeros(n, float)\n",
    "    for k in range(0, n - 1):  # loop for pivot eq.\n",
    "        if A[k, k] == 0:  # check if the diagonal element is 0\n",
    "            for j in range(n):  # if so then for all the columns\n",
    "                A[k, j], A[k + 1, j] = A[k + 1, j], A[k, j]  # swap the elements for the row below\n",
    "            b[k], b[k + 1] = b[k + 1], b[k]  # swap vector b but outside the column loop\n",
    "        for i in range(k + 1, n):  # loop for equations below pivot eq\n",
    "            lam = A[i, k] / A[k, k]\n",
    "            b[i] = b[i] - lam * b[k]\n",
    "            # print(\"b vector\",b[i])\n",
    "            for j in range(k, n):\n",
    "                A[i, j] = A[i, j] - lam * A[k, j]\n",
    "            # print(\"A matrix\",A[i,j])\n",
    "\n",
    "    # Stage 2 back substitution\n",
    "    x[n - 1] = b[n - 1] / A[n - 1, n - 1]\n",
    "    for i in range(n - 2, -1, -1):\n",
    "        # print(i)\n",
    "        terms = 0\n",
    "        for j in range(i + 1, n):\n",
    "            terms += A[i, j] * x[j]\n",
    "        x[i] = (b[i] - terms) / A[i, i]\n",
    "    return x\n",
    "\n",
    "\n",
    "C = np.array([[0, 8, -2, 5, 6],\n",
    "              [1, 3, 0, 1, 7],\n",
    "              [6, 0, 0, 2, -1],\n",
    "              [2, 1, 2, 0, 2],\n",
    "              [8, 4, 1, -2, 1]], float)\n",
    "\n",
    "D = np.array([5, 20, 2, 3, 4], float)\n",
    "\n",
    "print(sol_vector(C, D))\n"
   ],
   "metadata": {
    "collapsed": false,
    "ExecuteTime": {
     "end_time": "2024-03-22T21:31:19.719021400Z",
     "start_time": "2024-03-22T21:31:19.717012200Z"
    }
   },
   "id": "16bc8bf71e29ea0c"
  },
  {
   "cell_type": "raw",
   "source": [
    "Problem 5\n"
   ],
   "metadata": {
    "collapsed": false
   },
   "id": "e0577c1d4f37d3b9"
  },
  {
   "cell_type": "code",
   "execution_count": 97,
   "outputs": [
    {
     "name": "stdout",
     "output_type": "stream",
     "text": [
      "Error singular matrix\n",
      "Too many unknowns, solution will not converge. \n",
      "Matrix is ill-conditioned\n"
     ]
    }
   ],
   "source": [
    "a = np.array([[80, 20,0, 0],\n",
    "              [70, 0, 30, 0],\n",
    "              [5, 85, 10, 0],\n",
    "              [100, 0, 0, 0]])\n",
    "b = np.array([100, 100, 100, 100])\n",
    "\n",
    "def degrees_freedom(n, m):\n",
    "    if n == m:\n",
    "        print(\"You will have a unique solution\")\n",
    "    elif n < m:\n",
    "        print(\"Too many unknowns, solution will not converge. \")\n",
    "    else:\n",
    "        print(\"You have infinite solutions\")\n",
    "      \n",
    "if np.linalg.det(a) == 0:\n",
    "    print('Error singular matrix')\n",
    "else:\n",
    "    print(\"Proceed with matrix calculation\")\n",
    "    \n",
    "\n",
    "degrees_freedom(3, 4)\n",
    "\n",
    "if np.linalg.cond(species_mol_frac) >= 100:\n",
    "    print(\"Matrix is ill-conditioned\")\n",
    "else:\n",
    "    print(\"Matrix is well conditioned\")"
   ],
   "metadata": {
    "collapsed": false,
    "ExecuteTime": {
     "end_time": "2024-03-23T21:16:58.665682400Z",
     "start_time": "2024-03-23T21:16:58.656682300Z"
    }
   },
   "id": "e05887a2e4ec509"
  },
  {
   "cell_type": "code",
   "execution_count": 80,
   "outputs": [],
   "source": [],
   "metadata": {
    "collapsed": false,
    "ExecuteTime": {
     "end_time": "2024-03-23T20:57:07.190653800Z",
     "start_time": "2024-03-23T20:57:07.174644Z"
    }
   },
   "id": "295abd520011286e"
  },
  {
   "cell_type": "code",
   "execution_count": null,
   "outputs": [],
   "source": [],
   "metadata": {
    "collapsed": false
   },
   "id": "7e3ec337826cc40b"
  }
 ],
 "metadata": {
  "kernelspec": {
   "display_name": "Python 3",
   "language": "python",
   "name": "python3"
  },
  "language_info": {
   "codemirror_mode": {
    "name": "ipython",
    "version": 2
   },
   "file_extension": ".py",
   "mimetype": "text/x-python",
   "name": "python",
   "nbconvert_exporter": "python",
   "pygments_lexer": "ipython2",
   "version": "2.7.6"
  }
 },
 "nbformat": 4,
 "nbformat_minor": 5
}
