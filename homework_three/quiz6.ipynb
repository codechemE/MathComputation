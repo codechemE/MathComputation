{
 "cells": [
  {
   "cell_type": "code",
   "execution_count": 42,
   "id": "initial_id",
   "metadata": {
    "collapsed": true,
    "ExecuteTime": {
     "end_time": "2024-03-23T20:05:43.804900200Z",
     "start_time": "2024-03-23T20:05:43.799384600Z"
    }
   },
   "outputs": [
    {
     "name": "stdout",
     "output_type": "stream",
     "text": [
      "[1050 1750 2800 1400]\n",
      "[ 1.54372136  1.75160403 11.00238313  7.96626948]\n"
     ]
    }
   ],
   "source": [
    "import numpy as np\n",
    "\n",
    "species_mol_frac = np.array([[5, 16, 15, 24],[4, 26, 10, 65], [51, 42, 54, 10], [40, 16, 21, 1]])\n",
    "b = np.array([15, 25, 40, 20])\n",
    "b = b*70\n",
    "print(b)\n",
    "\n",
    "result = np.linalg.solve(species_mol_frac, b)\n",
    "d1 = result[0]\n",
    "b1 = result[1]\n",
    "d2 = result[2]\n",
    "b2 = result[3]\n",
    "# d1, b1, d2, b2\n",
    "\n",
    "answer = np.transpose(species_mol_frac)\n",
    "first_column = (d1/100)*answer[0] + (b1/100)*answer[1]\n",
    "print(first_column)"
   ]
  },
  {
   "cell_type": "code",
   "execution_count": 23,
   "outputs": [],
   "source": [],
   "metadata": {
    "collapsed": false,
    "ExecuteTime": {
     "end_time": "2024-03-23T19:55:30.458385900Z",
     "start_time": "2024-03-23T19:55:30.452870900Z"
    }
   },
   "id": "7e5788430f4a847"
  },
  {
   "cell_type": "code",
   "execution_count": null,
   "outputs": [],
   "source": [],
   "metadata": {
    "collapsed": false
   },
   "id": "a4eb9708f7390a22"
  }
 ],
 "metadata": {
  "kernelspec": {
   "display_name": "Python 3",
   "language": "python",
   "name": "python3"
  },
  "language_info": {
   "codemirror_mode": {
    "name": "ipython",
    "version": 2
   },
   "file_extension": ".py",
   "mimetype": "text/x-python",
   "name": "python",
   "nbconvert_exporter": "python",
   "pygments_lexer": "ipython2",
   "version": "2.7.6"
  }
 },
 "nbformat": 4,
 "nbformat_minor": 5
}
