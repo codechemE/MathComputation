{
 "cells": [
  {
   "cell_type": "code",
   "execution_count": 1,
   "id": "initial_id",
   "metadata": {
    "collapsed": true,
    "ExecuteTime": {
     "end_time": "2024-04-04T17:13:08.348677100Z",
     "start_time": "2024-04-04T17:13:07.585154600Z"
    }
   },
   "outputs": [
    {
     "name": "stdout",
     "output_type": "stream",
     "text": [
      "21.0\n"
     ]
    }
   ],
   "source": [
    "import numpy as np\n",
    "from scipy.integrate import simps\n",
    "x = np.linspace(1, 4, 5)\n",
    "y = x**2\n",
    "simp_int = simps(y, x)\n",
    "print(simp_int)"
   ]
  },
  {
   "cell_type": "code",
   "execution_count": 3,
   "outputs": [
    {
     "name": "stdout",
     "output_type": "stream",
     "text": [
      "4.187045602452036\n",
      "4.1887902047863905\n"
     ]
    }
   ],
   "source": [
    "import numpy as np\n",
    "R = 1\n",
    "x = np.linspace(-R,R)\n",
    "y =np.pi*(R**2 - x**2)\n",
    "approx_V = np.trapz(y, x)\n",
    "exact_V = 4/3*np.pi*R**3\n",
    "\n",
    "print(approx_V)\n",
    "print(exact_V)"
   ],
   "metadata": {
    "collapsed": false,
    "ExecuteTime": {
     "end_time": "2024-04-04T17:18:39.492362100Z",
     "start_time": "2024-04-04T17:18:39.480363300Z"
    }
   },
   "id": "6564a02a1319ae1d"
  },
  {
   "cell_type": "code",
   "execution_count": 9,
   "outputs": [
    {
     "name": "stdout",
     "output_type": "stream",
     "text": [
      "0.7008495831224023\n"
     ]
    }
   ],
   "source": [
    "\n",
    "x = np.array([0, .2, .4, .6, .65])\n",
    "ra = np.array([39, 53, 59, 38, 25])\n",
    "Fao = 50\n",
    "fao_over_ra = Fao / ra\n",
    "integrate_v = np.trapz(fao_over_ra, x)\n",
    "print(integrate_v)\n"
   ],
   "metadata": {
    "collapsed": false,
    "ExecuteTime": {
     "end_time": "2024-04-04T17:28:19.305468Z",
     "start_time": "2024-04-04T17:28:19.298939100Z"
    }
   },
   "id": "cb2851074a04cb99"
  },
  {
   "cell_type": "code",
   "execution_count": 10,
   "outputs": [
    {
     "name": "stdout",
     "output_type": "stream",
     "text": [
      "Required volume for x = .65 is 0.7008495831224023 m^3\n"
     ]
    }
   ],
   "source": [
    "x = np.array([0, .2, .4, .6, .65])\n",
    "ra = np.array([39, 53, 59, 38, 25])\n",
    "Fao = 50\n",
    "fao_over_ra = Fao / ra\n",
    "integrate_v = np.trapz(fao_over_ra, x)\n",
    "print(f\"Required volume for x = .65 is {integrate_v} m^3\")"
   ],
   "metadata": {
    "collapsed": false,
    "ExecuteTime": {
     "end_time": "2024-04-04T17:28:49.285618400Z",
     "start_time": "2024-04-04T17:28:49.276126100Z"
    }
   },
   "id": "b163ea98c1d488ef"
  },
  {
   "cell_type": "code",
   "execution_count": 9,
   "outputs": [],
   "source": [
    "x = np.array([0, .2, .4, .6, .65])\n",
    "ra = np.array([39, 53, 59, 38, 25])\n",
    "Fao = 50\n",
    "fao_over_ra = Fao / ra"
   ],
   "metadata": {
    "collapsed": false,
    "ExecuteTime": {
     "end_time": "2024-04-04T17:28:45.872383300Z",
     "start_time": "2024-04-04T17:28:45.865383500Z"
    }
   },
   "id": "7dd603273b0ca1da"
  },
  {
   "cell_type": "code",
   "execution_count": 12,
   "outputs": [
    {
     "data": {
      "text/plain": "<Figure size 640x480 with 1 Axes>",
      "image/png": "[encoded data removed]"
     },
     "metadata": {},
     "output_type": "display_data"
    }
   ],
   "source": [
    "import matplotlib.pyplot as plt\n",
    "plt.plot(x, fao_over_ra)\n",
    "plt.xlabel(\"Conversion (X)\")\n",
    "plt.ylabel(\"Fao/ra\")\n",
    "plt.show()"
   ],
   "metadata": {
    "collapsed": false,
    "ExecuteTime": {
     "end_time": "2024-04-04T17:31:30.961670Z",
     "start_time": "2024-04-04T17:31:30.824274800Z"
    }
   },
   "id": "eed528fa1c1623c7"
  },
  {
   "cell_type": "code",
   "execution_count": 20,
   "outputs": [
    {
     "name": "stdout",
     "output_type": "stream",
     "text": [
      "[0.22254475 0.40163014 0.61795485 0.70084958]\n"
     ]
    }
   ],
   "source": [
    "import scipy as sci\n",
    "cumV = sci.integrate.cumulative_trapezoid(fao_over_ra,x)\n",
    "print(cumV)\n",
    "\n"
   ],
   "metadata": {
    "collapsed": false,
    "ExecuteTime": {
     "end_time": "2024-04-04T17:39:56.168518900Z",
     "start_time": "2024-04-04T17:39:56.164509400Z"
    }
   },
   "id": "58a9a4b908028280"
  },
  {
   "cell_type": "code",
   "execution_count": 18,
   "outputs": [],
   "source": [
    "from scipy.integrate import quad\n",
    "?quad"
   ],
   "metadata": {
    "collapsed": false,
    "ExecuteTime": {
     "end_time": "2024-04-04T17:38:50.417582800Z",
     "start_time": "2024-04-04T17:38:50.385584200Z"
    }
   },
   "id": "c1c3a6c96c1248ef"
  },
  {
   "cell_type": "code",
   "execution_count": 21,
   "outputs": [
    {
     "data": {
      "text/plain": "(21.000000000000004, 2.331468351712829e-13)"
     },
     "execution_count": 21,
     "metadata": {},
     "output_type": "execute_result"
    }
   ],
   "source": [
    "def f(z):\n",
    "    return z**2\n",
    "quad(f, 1, 4)"
   ],
   "metadata": {
    "collapsed": false,
    "ExecuteTime": {
     "end_time": "2024-04-04T17:40:26.320563400Z",
     "start_time": "2024-04-04T17:40:26.303624800Z"
    }
   },
   "id": "1ae79f3e3e29416d"
  },
  {
   "cell_type": "code",
   "execution_count": 25,
   "outputs": [
    {
     "data": {
      "text/plain": "(0.7468241328124271, 8.291413475940725e-15)"
     },
     "execution_count": 25,
     "metadata": {},
     "output_type": "execute_result"
    }
   ],
   "source": [
    "f = lambda j:np.exp(-j**2)\n",
    "quad(f, 0, 1)"
   ],
   "metadata": {
    "collapsed": false,
    "ExecuteTime": {
     "end_time": "2024-04-04T17:44:14.997718900Z",
     "start_time": "2024-04-04T17:44:14.976311600Z"
    }
   },
   "id": "c1cabc3a46e26ecc"
  },
  {
   "cell_type": "code",
   "execution_count": 24,
   "outputs": [
    {
     "data": {
      "text/plain": "(1.0, 1.1102230246251565e-14)"
     },
     "execution_count": 24,
     "metadata": {},
     "output_type": "execute_result"
    }
   ],
   "source": [
    "def f(w):\n",
    "    return w**-2\n",
    "\n",
    "quad(f, 1, np.Inf)"
   ],
   "metadata": {
    "collapsed": false,
    "ExecuteTime": {
     "end_time": "2024-04-04T17:44:04.603211400Z",
     "start_time": "2024-04-04T17:44:04.583384Z"
    }
   },
   "id": "f12bf094126475e3"
  },
  {
   "cell_type": "raw",
   "source": [
    "Integrating polynomials\n"
   ],
   "metadata": {
    "collapsed": false
   },
   "id": "6394509e888814ff"
  },
  {
   "cell_type": "code",
   "execution_count": 26,
   "outputs": [
    {
     "data": {
      "text/plain": "poly1d([2, 5, 1])"
     },
     "execution_count": 26,
     "metadata": {},
     "output_type": "execute_result"
    }
   ],
   "source": [
    "\n",
    "p = np.poly1d([2, 5, 1])\n",
    "p"
   ],
   "metadata": {
    "collapsed": false,
    "ExecuteTime": {
     "end_time": "2024-04-04T17:45:29.279514400Z",
     "start_time": "2024-04-04T17:45:29.256328Z"
    }
   },
   "id": "5e3a3829e87a67a"
  },
  {
   "cell_type": "code",
   "execution_count": 27,
   "outputs": [
    {
     "data": {
      "text/plain": "8"
     },
     "execution_count": 27,
     "metadata": {},
     "output_type": "execute_result"
    }
   ],
   "source": [
    "p(1)"
   ],
   "metadata": {
    "collapsed": false,
    "ExecuteTime": {
     "end_time": "2024-04-04T17:45:40.186830800Z",
     "start_time": "2024-04-04T17:45:40.166815500Z"
    }
   },
   "id": "cbd8f720cbc86e4"
  },
  {
   "cell_type": "code",
   "execution_count": 28,
   "outputs": [
    {
     "data": {
      "text/plain": "poly1d([2, 5, 1])"
     },
     "execution_count": 28,
     "metadata": {},
     "output_type": "execute_result"
    }
   ],
   "source": [
    "# 2x^2 +5x + 1\n",
    "\n",
    "p = np.poly1d([2, 5, 1])\n",
    "p"
   ],
   "metadata": {
    "collapsed": false,
    "ExecuteTime": {
     "end_time": "2024-04-04T17:47:08.814553900Z",
     "start_time": "2024-04-04T17:47:08.793557Z"
    }
   },
   "id": "8c4a65752a928185"
  },
  {
   "cell_type": "code",
   "execution_count": 29,
   "outputs": [
    {
     "data": {
      "text/plain": "array([-2.28077641, -0.21922359])"
     },
     "execution_count": 29,
     "metadata": {},
     "output_type": "execute_result"
    }
   ],
   "source": [
    "p(1), p(2), p(3)\n",
    "p.r "
   ],
   "metadata": {
    "collapsed": false,
    "ExecuteTime": {
     "end_time": "2024-04-04T17:48:06.919947100Z",
     "start_time": "2024-04-04T17:48:06.893431800Z"
    }
   },
   "id": "feee1ac8b204980e"
  },
  {
   "cell_type": "code",
   "execution_count": 30,
   "outputs": [
    {
     "data": {
      "text/plain": "poly1d([0.66666667, 2.5       , 1.        , 0.        ])"
     },
     "execution_count": 30,
     "metadata": {},
     "output_type": "execute_result"
    }
   ],
   "source": [
    "P = np.polyint(p)\n",
    "P"
   ],
   "metadata": {
    "collapsed": false,
    "ExecuteTime": {
     "end_time": "2024-04-04T17:49:38.478280600Z",
     "start_time": "2024-04-04T17:49:38.461509400Z"
    }
   },
   "id": "98c5c1f0fe788cc8"
  },
  {
   "cell_type": "code",
   "execution_count": 31,
   "outputs": [
    {
     "data": {
      "text/plain": "146.66666666666666"
     },
     "execution_count": 31,
     "metadata": {},
     "output_type": "execute_result"
    }
   ],
   "source": [
    "P(5)-P(1)"
   ],
   "metadata": {
    "collapsed": false,
    "ExecuteTime": {
     "end_time": "2024-04-04T17:50:56.792030700Z",
     "start_time": "2024-04-04T17:50:56.780594700Z"
    }
   },
   "id": "d32cc81fd67fdd8e"
  },
  {
   "cell_type": "code",
   "execution_count": 32,
   "outputs": [
    {
     "data": {
      "text/plain": "(0.5, 1.7092350012594845e-14)"
     },
     "execution_count": 32,
     "metadata": {},
     "output_type": "execute_result"
    }
   ],
   "source": [
    "from scipy.integrate import dblquad\n",
    "\n",
    "f = lambda x1, y1:16*x1*y1\n",
    "g = lambda x1:0\n",
    "h = lambda y1:np.sqrt(1-4*y1**2)\n",
    "dblquad(f, 0, .5, g, h)"
   ],
   "metadata": {
    "collapsed": false,
    "ExecuteTime": {
     "end_time": "2024-04-04T17:56:22.785964200Z",
     "start_time": "2024-04-04T17:56:22.760301400Z"
    }
   },
   "id": "af86d5d51732db2a"
  },
  {
   "cell_type": "markdown",
   "source": [
    "scipy.integrate.tplquad(func, x_lower_bound, x_upper bound, y_lower, y_higher, z_lower, z_upper)\n",
    "\n"
   ],
   "metadata": {
    "collapsed": false
   },
   "id": "7d26a47f83aff1e1"
  },
  {
   "cell_type": "code",
   "execution_count": 2,
   "outputs": [
    {
     "data": {
      "text/plain": "(1.8750000000000002, 3.324644794257407e-14)"
     },
     "execution_count": 2,
     "metadata": {},
     "output_type": "execute_result"
    }
   ],
   "source": [
    "import scipy as sci\n",
    "f = lambda z2, y2, x2: x2 * y2 * z2\n",
    "sci.integrate.tplquad(f, 1, 2, 2, 3, 0, 1)\n"
   ],
   "metadata": {
    "collapsed": false,
    "ExecuteTime": {
     "end_time": "2024-04-04T18:21:29.240313Z",
     "start_time": "2024-04-04T18:21:28.531531900Z"
    }
   },
   "id": "9122b4a50d46bfba"
  },
  {
   "cell_type": "markdown",
   "source": [],
   "metadata": {
    "collapsed": false
   },
   "id": "47cbcd550cc2ce69"
  }
 ],
 "metadata": {
  "kernelspec": {
   "display_name": "Python 3",
   "language": "python",
   "name": "python3"
  },
  "language_info": {
   "codemirror_mode": {
    "name": "ipython",
    "version": 2
   },
   "file_extension": ".py",
   "mimetype": "text/x-python",
   "name": "python",
   "nbconvert_exporter": "python",
   "pygments_lexer": "ipython2",
   "version": "2.7.6"
  }
 },
 "nbformat": 4,
 "nbformat_minor": 5
}
