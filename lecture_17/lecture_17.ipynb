{
 "cells": [
  {
   "cell_type": "code",
   "execution_count": 2,
   "id": "initial_id",
   "metadata": {
    "collapsed": true,
    "ExecuteTime": {
     "end_time": "2024-04-02T18:10:24.206439Z",
     "start_time": "2024-04-02T18:10:23.581664400Z"
    }
   },
   "outputs": [
    {
     "name": "stdout",
     "output_type": "stream",
     "text": [
      "Object `interpnd` not found.\n"
     ]
    }
   ],
   "source": [
    "from scipy.interpolate import interp2d, interp1d\n",
    "import numpy as np\n",
    "?interpnd"
   ]
  },
  {
   "cell_type": "code",
   "execution_count": null,
   "outputs": [],
   "source": [
    "import matplotlib.pyplot as plt\n",
    "\n",
    "x = np.array([1.2, 2.9, 4.1, ])\n",
    "y = np.array([])\n"
   ],
   "metadata": {
    "collapsed": false
   },
   "id": "2ea78ca8f7cd9230"
  },
  {
   "cell_type": "raw",
   "source": [],
   "metadata": {
    "collapsed": false
   },
   "id": "a566f30f226bead3"
  },
  {
   "cell_type": "code",
   "execution_count": 3,
   "outputs": [
    {
     "ename": "NameError",
     "evalue": "name 'np' is not defined",
     "output_type": "error",
     "traceback": [
      "\u001B[1;31m---------------------------------------------------------------------------\u001B[0m",
      "\u001B[1;31mNameError\u001B[0m                                 Traceback (most recent call last)",
      "Cell \u001B[1;32mIn[3], line 1\u001B[0m\n\u001B[1;32m----> 1\u001B[0m x \u001B[38;5;241m=\u001B[39m np\u001B[38;5;241m.\u001B[39marray(\u001B[38;5;28mrange\u001B[39m(\u001B[38;5;241m0\u001B[39m,\u001B[38;5;241m8\u001B[39m))\n\u001B[0;32m      2\u001B[0m y \u001B[38;5;241m=\u001B[39m np\u001B[38;5;241m.\u001B[39marray([\u001B[38;5;241m1\u001B[39m, \u001B[38;5;241m2\u001B[39m, \u001B[38;5;241m1\u001B[39m, \u001B[38;5;241m1\u001B[39m, \u001B[38;5;241m0\u001B[39m, \u001B[38;5;241m0\u001B[39m, \u001B[38;5;241m0\u001B[39m])\n\u001B[0;32m      4\u001B[0m X \u001B[38;5;241m=\u001B[39m np\u001B[38;5;241m.\u001B[39mlinspace(\u001B[38;5;241m1\u001B[39m, \u001B[38;5;241m7\u001B[39m)\n",
      "\u001B[1;31mNameError\u001B[0m: name 'np' is not defined"
     ]
    }
   ],
   "source": [
    "x = np.array(range(0,8))\n",
    "y = np.array([1, 2, 1, 1, 0, 0, 0])\n",
    "\n",
    "X = np.linspace(1, 7)\n",
    "\n",
    "\n",
    "\n"
   ],
   "metadata": {
    "collapsed": false,
    "ExecuteTime": {
     "end_time": "2024-04-02T17:57:57.049297500Z",
     "start_time": "2024-04-02T17:57:56.509077100Z"
    }
   },
   "id": "747ba8b5b5640bf1"
  },
  {
   "cell_type": "raw",
   "source": [
    "Interpolation \n",
    "\n"
   ],
   "metadata": {
    "collapsed": false
   },
   "id": "20d76858c9b0cb79"
  },
  {
   "cell_type": "code",
   "execution_count": 11,
   "outputs": [],
   "source": [
    "from scipy.interpolate import interp2d\n",
    "\n",
    "Ph = np.array([0.794, 0.6742, 0.5576, 0.5075, 0.4256])\n",
    "P = np.array([0.2670, 0.3424, .4342, .5043])\n",
    "r0 = np.array([[.2182, .2134, .2048, .1883, .1928],\n",
    "              [.2213, .2208, .2139, 0.1695, .1432],\n",
    "              [.2516, .2722, .2235, .1732, .1771],\n",
    "              [.2832, .3112, .3523, .1892, .1630]])\n",
    "\n"
   ],
   "metadata": {
    "collapsed": false,
    "ExecuteTime": {
     "end_time": "2024-04-02T17:43:50.926096Z",
     "start_time": "2024-04-02T17:43:50.915576300Z"
    }
   },
   "id": "b0c63654daf0594c"
  },
  {
   "cell_type": "raw",
   "source": [
    "formula for 1d interpolation\n",
    "\n",
    "y - y1         y2 -y1\n",
    "over      =     over\n",
    "x - x1    =    x2 - x1\n",
    "\n",
    "solve for y\n",
    "\n",
    "y  =  (y2-y1)(x-x1)/(x2 - x1) + y1\n",
    "\n",
    "y is unknown\n",
    "\n"
   ],
   "metadata": {
    "collapsed": false
   },
   "id": "58196a35cd5fc2f6"
  },
  {
   "cell_type": "code",
   "execution_count": null,
   "outputs": [],
   "source": [],
   "metadata": {
    "collapsed": false
   },
   "id": "ad18b696d63d5441"
  },
  {
   "cell_type": "code",
   "execution_count": 8,
   "outputs": [],
   "source": [
    "# noinspection PyShadowingNames\n",
    "def interpolation_manual_1d(z, x1, x2, y1, y2):\n",
    "    return (y2-y1)*(z-x1)/(x2 - x1) + y1\n",
    "# replaced x with z to avoid warning from IDE"
   ],
   "metadata": {
    "collapsed": false,
    "ExecuteTime": {
     "end_time": "2024-04-02T18:02:25.447747800Z",
     "start_time": "2024-04-02T18:02:25.445753200Z"
    }
   },
   "id": "31961d6872638bc0"
  },
  {
   "cell_type": "code",
   "execution_count": 9,
   "outputs": [
    {
     "name": "stdout",
     "output_type": "stream",
     "text": [
      "1.0046\n"
     ]
    }
   ],
   "source": [
    "z = 290.0\n",
    "x1 = 250.0\n",
    "x2 = 300.0\n",
    "y1 = 1.003\n",
    "y2 = 1.005\n",
    "\n",
    "print(interpolation_manual(z, x1, x2, y1, y2))"
   ],
   "metadata": {
    "collapsed": false,
    "ExecuteTime": {
     "end_time": "2024-04-02T18:02:27.002924100Z",
     "start_time": "2024-04-02T18:02:27.000090100Z"
    }
   },
   "id": "9d2d77bce5cd044b"
  },
  {
   "cell_type": "raw",
   "source": [
    "numeric and symbolic integration \n",
    "\n"
   ],
   "metadata": {
    "collapsed": false
   },
   "id": "a568c9d87a85343e"
  },
  {
   "cell_type": "code",
   "execution_count": 5,
   "outputs": [
    {
     "name": "stdout",
     "output_type": "stream",
     "text": [
      "Absolute value 0.8862943611198906\n",
      "Integral from Trapezoid is: 0.8465735902799727\n",
      "Error in trapezoid Rule is: 0.039720770839917874\n"
     ]
    }
   ],
   "source": [
    "a = 1\n",
    "b = 2\n",
    "true_value = (b-b**2/2+b*np.log(b))-(a-a**2/2+np.log(a))\n",
    "print(\"Absolute value\", true_value)\n",
    "\n",
    "def myFuncInt(x):\n",
    "    return 2 - x + np.log(x)\n",
    "\n",
    "h = b - a\n",
    "fa = myFuncInt(a)\n",
    "fb = myFuncInt(b)\n",
    "I_trapz = h/2*(fa+fb)\n",
    "print(f\"Integral from Trapezoid is: {I_trapz}\")\n",
    "\n",
    "errz_trapz = np.abs(true_value-I_trapz)\n",
    "print(f\"Error in trapezoid Rule is: {errz_trapz}\")\n"
   ],
   "metadata": {
    "collapsed": false,
    "ExecuteTime": {
     "end_time": "2024-04-02T18:21:06.402865800Z",
     "start_time": "2024-04-02T18:21:06.387870200Z"
    }
   },
   "id": "181fe39d0f85ad4e"
  },
  {
   "cell_type": "raw",
   "source": [
    "Simpson's rules implement each 1 in python\n",
    "Also implement trapezoid rule, compare the 3 results (np, manual impelemention, simpson's rules\n",
    "np.trapz\n",
    "\n",
    "\n",
    "\n"
   ],
   "metadata": {
    "collapsed": false
   },
   "id": "d07dc77c953de4b5"
  },
  {
   "cell_type": "code",
   "execution_count": 13,
   "outputs": [
    {
     "name": "stdout",
     "output_type": "stream",
     "text": [
      "Trapz integral 21.28125\n",
      "Error in trapz rule is: 0.28125\n"
     ]
    }
   ],
   "source": [
    "x = np.linspace(1, 4, 5)\n",
    "y = x**2\n",
    "analytical_sol = 1/3*(4**3-1**3)\n",
    "trapz_int = np.trapz(y, x)\n",
    "\n",
    "print(\"Trapz integral\", trapz_int)\n",
    "errz_trapz = abs(analytical_sol-trapz_int)\n",
    "print(f'Error in trapz rule is: {(errz_trapz)}')"
   ],
   "metadata": {
    "collapsed": false,
    "ExecuteTime": {
     "end_time": "2024-04-02T18:31:55.455343Z",
     "start_time": "2024-04-02T18:31:55.448895700Z"
    }
   },
   "id": "13066104ef3a8cc8"
  },
  {
   "cell_type": "code",
   "execution_count": null,
   "outputs": [],
   "source": [],
   "metadata": {
    "collapsed": false
   },
   "id": "90027ea452220c2a"
  }
 ],
 "metadata": {
  "kernelspec": {
   "display_name": "Python 3",
   "language": "python",
   "name": "python3"
  },
  "language_info": {
   "codemirror_mode": {
    "name": "ipython",
    "version": 2
   },
   "file_extension": ".py",
   "mimetype": "text/x-python",
   "name": "python",
   "nbconvert_exporter": "python",
   "pygments_lexer": "ipython2",
   "version": "2.7.6"
  }
 },
 "nbformat": 4,
 "nbformat_minor": 5
}
