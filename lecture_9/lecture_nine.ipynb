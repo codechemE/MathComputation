{
 "cells": [
  {
   "cell_type": "code",
   "execution_count": 1,
   "id": "initial_id",
   "metadata": {
    "collapsed": true,
    "ExecuteTime": {
     "end_time": "2024-02-27T18:12:22.490719300Z",
     "start_time": "2024-02-27T18:12:22.112705400Z"
    }
   },
   "outputs": [
    {
     "name": "stdout",
     "output_type": "stream",
     "text": [
      "[[0. 0. 0.]\n",
      " [0. 0. 0.]]\n"
     ]
    }
   ],
   "source": [
    "import numpy as np\n",
    "print(np.zeros((2,3)))"
   ]
  },
  {
   "cell_type": "code",
   "execution_count": 3,
   "outputs": [
    {
     "name": "stdout",
     "output_type": "stream",
     "text": [
      "[[1. 1. 1.]\n",
      " [1. 1. 1.]\n",
      " [1. 1. 1.]]\n"
     ]
    }
   ],
   "source": [
    "print(np.ones((3,3)))"
   ],
   "metadata": {
    "collapsed": false,
    "ExecuteTime": {
     "end_time": "2024-02-27T18:12:54.820160700Z",
     "start_time": "2024-02-27T18:12:54.809158600Z"
    }
   },
   "id": "2b0a3679ce30e570"
  },
  {
   "cell_type": "code",
   "execution_count": 4,
   "outputs": [
    {
     "name": "stdout",
     "output_type": "stream",
     "text": [
      "[[1. 0. 0.]\n",
      " [0. 1. 0.]\n",
      " [0. 0. 1.]]\n"
     ]
    }
   ],
   "source": [
    "print(np.identity(3))"
   ],
   "metadata": {
    "collapsed": false,
    "ExecuteTime": {
     "end_time": "2024-02-27T18:13:53.477394900Z",
     "start_time": "2024-02-27T18:13:53.467822700Z"
    }
   },
   "id": "3a180a1819a80e69"
  },
  {
   "cell_type": "code",
   "execution_count": 5,
   "outputs": [
    {
     "name": "stdout",
     "output_type": "stream",
     "text": [
      "[[1. 0. 0.]\n",
      " [0. 1. 0.]\n",
      " [0. 0. 1.]]\n"
     ]
    }
   ],
   "source": [
    "print(np.eye(3))"
   ],
   "metadata": {
    "collapsed": false,
    "ExecuteTime": {
     "end_time": "2024-02-27T18:14:26.739126400Z",
     "start_time": "2024-02-27T18:14:26.731114400Z"
    }
   },
   "id": "ff622b15167722ca"
  },
  {
   "cell_type": "code",
   "execution_count": 6,
   "outputs": [
    {
     "name": "stdout",
     "output_type": "stream",
     "text": [
      "[10 15 20 25]\n"
     ]
    }
   ],
   "source": [
    "arr_range = np.arange(10,30,5)\n",
    "print(arr_range)"
   ],
   "metadata": {
    "collapsed": false,
    "ExecuteTime": {
     "end_time": "2024-02-27T18:16:09.893381100Z",
     "start_time": "2024-02-27T18:16:09.883873Z"
    }
   },
   "id": "9e4297ff585a431a"
  },
  {
   "cell_type": "code",
   "execution_count": 7,
   "outputs": [
    {
     "name": "stdout",
     "output_type": "stream",
     "text": [
      "[0.   0.25 0.5  0.75 1.   1.25 1.5  1.75 2.  ]\n"
     ]
    }
   ],
   "source": [
    "arr_lin = np.linspace(0, 2, 9)\n",
    "print(arr_lin)"
   ],
   "metadata": {
    "collapsed": false,
    "ExecuteTime": {
     "end_time": "2024-02-27T18:16:53.422304800Z",
     "start_time": "2024-02-27T18:16:53.413680400Z"
    }
   },
   "id": "1b53be63444bbbd5"
  },
  {
   "cell_type": "code",
   "execution_count": 9,
   "outputs": [
    {
     "name": "stdout",
     "output_type": "stream",
     "text": [
      "[[0.60424643 0.46970858]\n",
      " [0.84262724 0.07171913]]\n"
     ]
    }
   ],
   "source": [
    "arr_rand = np.random.random((2, 2))\n",
    "print(arr_rand)"
   ],
   "metadata": {
    "collapsed": false,
    "ExecuteTime": {
     "end_time": "2024-02-27T18:17:45.841402400Z",
     "start_time": "2024-02-27T18:17:45.831253500Z"
    }
   },
   "id": "7e3a857919a4bbb4"
  },
  {
   "cell_type": "code",
   "execution_count": 10,
   "outputs": [
    {
     "name": "stdout",
     "output_type": "stream",
     "text": [
      "[[4 6 5]\n",
      " [0 6 4]\n",
      " [3 6 6]]\n"
     ]
    }
   ],
   "source": [
    "arr_rand_int = np.random.randint(7, size=(3, 3))\n",
    "print(arr_rand_int)"
   ],
   "metadata": {
    "collapsed": false,
    "ExecuteTime": {
     "end_time": "2024-02-27T18:18:56.025910800Z",
     "start_time": "2024-02-27T18:18:56.018173800Z"
    }
   },
   "id": "70bcd9fb917f341a"
  },
  {
   "cell_type": "code",
   "execution_count": 11,
   "outputs": [
    {
     "name": "stdout",
     "output_type": "stream",
     "text": [
      "[3.99232405+6.21767631j 3.99232405-6.21767631j]\n"
     ]
    }
   ],
   "source": [
    "arr_exp_con = np.exp([2+1j,2-1j])\n",
    "print(arr_exp_con)"
   ],
   "metadata": {
    "collapsed": false,
    "ExecuteTime": {
     "end_time": "2024-02-27T18:20:00.115164300Z",
     "start_time": "2024-02-27T18:20:00.089582Z"
    }
   },
   "id": "b7bcffe7b4c6ec4e"
  },
  {
   "cell_type": "code",
   "execution_count": 12,
   "outputs": [
    {
     "name": "stdout",
     "output_type": "stream",
     "text": [
      "[[0.60424643 0.46970858]\n",
      " [0.84262724 0.07171913]]\n"
     ]
    }
   ],
   "source": [
    "arr_empty = np.empty((2,2))\n",
    "print(arr_empty)"
   ],
   "metadata": {
    "collapsed": false,
    "ExecuteTime": {
     "end_time": "2024-02-27T18:20:43.351430300Z",
     "start_time": "2024-02-27T18:20:43.342428400Z"
    }
   },
   "id": "5035f13e48f12f15"
  },
  {
   "cell_type": "code",
   "execution_count": 14,
   "outputs": [
    {
     "name": "stdout",
     "output_type": "stream",
     "text": [
      "[[7 7]\n",
      " [7 7]]\n"
     ]
    }
   ],
   "source": [
    "arr_full = np.full((2,2), 7)\n",
    "print(arr_full)"
   ],
   "metadata": {
    "collapsed": false,
    "ExecuteTime": {
     "end_time": "2024-02-27T18:21:20.546176Z",
     "start_time": "2024-02-27T18:21:20.536167100Z"
    }
   },
   "id": "2f6f38bf05d6a135"
  },
  {
   "cell_type": "code",
   "execution_count": 15,
   "outputs": [
    {
     "name": "stdout",
     "output_type": "stream",
     "text": [
      "[[ 1  2  3  4]\n",
      " [ 5  6  7  8]\n",
      " [ 8 10 11 12]]\n"
     ]
    }
   ],
   "source": [
    "a_2d = np.array(([[1,2,3,4],\n",
    "                  [5,6,7,8],\n",
    "                  [8,10,11,12]]))\n",
    "print(a_2d)"
   ],
   "metadata": {
    "collapsed": false,
    "ExecuteTime": {
     "end_time": "2024-02-27T18:26:06.565412900Z",
     "start_time": "2024-02-27T18:26:06.556904800Z"
    }
   },
   "id": "e2d9b3c4ef760988"
  },
  {
   "cell_type": "code",
   "execution_count": 17,
   "outputs": [
    {
     "name": "stdout",
     "output_type": "stream",
     "text": [
      "[[ 1  2  3  4]\n",
      " [ 5  6  7  8]\n",
      " [ 9 10 11 12]]\n"
     ]
    }
   ],
   "source": [
    "a_2d = np.arange(1,13,1).reshape(3,4)\n",
    "print(a_2d)"
   ],
   "metadata": {
    "collapsed": false,
    "ExecuteTime": {
     "end_time": "2024-02-27T18:27:14.806283500Z",
     "start_time": "2024-02-27T18:27:14.797286800Z"
    }
   },
   "id": "634d8bef4d3f6daf"
  },
  {
   "cell_type": "code",
   "execution_count": 18,
   "outputs": [
    {
     "name": "stdout",
     "output_type": "stream",
     "text": [
      "10\n"
     ]
    }
   ],
   "source": [
    "print(a_2d[2][1])"
   ],
   "metadata": {
    "collapsed": false,
    "ExecuteTime": {
     "end_time": "2024-02-27T18:27:34.552101900Z",
     "start_time": "2024-02-27T18:27:34.543594200Z"
    }
   },
   "id": "8a17793f59e644b8"
  },
  {
   "cell_type": "code",
   "execution_count": 19,
   "outputs": [
    {
     "name": "stdout",
     "output_type": "stream",
     "text": [
      "[ 2  6 10]\n"
     ]
    }
   ],
   "source": [
    "print(a_2d[:,1])"
   ],
   "metadata": {
    "collapsed": false,
    "ExecuteTime": {
     "end_time": "2024-02-27T18:28:02.923373700Z",
     "start_time": "2024-02-27T18:28:02.909867100Z"
    }
   },
   "id": "167208cba06ba8af"
  },
  {
   "cell_type": "code",
   "execution_count": 20,
   "outputs": [
    {
     "name": "stdout",
     "output_type": "stream",
     "text": [
      "[[ 1  2  3  4]\n",
      " [ 5  6  7  8]\n",
      " [ 9 16 11 12]]\n"
     ]
    }
   ],
   "source": [
    "a_2d[2, 1] = 16\n",
    "print(a_2d)"
   ],
   "metadata": {
    "collapsed": false,
    "ExecuteTime": {
     "end_time": "2024-02-27T18:29:17.039593400Z",
     "start_time": "2024-02-27T18:29:17.031087Z"
    }
   },
   "id": "d00079769876bdce"
  },
  {
   "cell_type": "code",
   "execution_count": 21,
   "outputs": [
    {
     "name": "stdout",
     "output_type": "stream",
     "text": [
      "[[ 1  4  3  4]\n",
      " [ 5 12  7  8]\n",
      " [ 9 20 11 12]]\n"
     ]
    }
   ],
   "source": [
    "a_2d[:,1] = [4, 12, 20]\n",
    "print(a_2d)"
   ],
   "metadata": {
    "collapsed": false,
    "ExecuteTime": {
     "end_time": "2024-02-27T18:31:14.994147800Z",
     "start_time": "2024-02-27T18:31:14.985641100Z"
    }
   },
   "id": "94385601a0c6c741"
  },
  {
   "cell_type": "code",
   "execution_count": 26,
   "outputs": [
    {
     "name": "stdout",
     "output_type": "stream",
     "text": [
      "[[ 1  3]\n",
      " [ 5  7]\n",
      " [ 9 11]]\n"
     ]
    }
   ],
   "source": [
    "print(a_2d[:,::2])\n"
   ],
   "metadata": {
    "collapsed": false,
    "ExecuteTime": {
     "end_time": "2024-02-27T18:32:06.791154400Z",
     "start_time": "2024-02-27T18:32:06.782156Z"
    }
   },
   "id": "2af96cc6709615e7"
  },
  {
   "cell_type": "code",
   "execution_count": 27,
   "outputs": [
    {
     "name": "stdout",
     "output_type": "stream",
     "text": [
      "[[1 1 1 1 1]\n",
      " [1 0 0 0 1]\n",
      " [1 0 9 0 1]\n",
      " [1 0 0 0 1]\n",
      " [1 1 1 1 1]]\n"
     ]
    }
   ],
   "source": [
    "mat = np.ones((5,5),dtype = int)\n",
    "mat[1:4,1:4] = np.zeros((3,3))\n",
    "mat[2, 2] = 9\n",
    "print(mat)"
   ],
   "metadata": {
    "collapsed": false,
    "ExecuteTime": {
     "end_time": "2024-02-27T18:38:43.483204900Z",
     "start_time": "2024-02-27T18:38:43.465569Z"
    }
   },
   "id": "b09697868aabd321"
  },
  {
   "cell_type": "code",
   "execution_count": 28,
   "outputs": [],
   "source": [
    "from numpy import linalg"
   ],
   "metadata": {
    "collapsed": false,
    "ExecuteTime": {
     "end_time": "2024-02-27T18:44:20.867982Z",
     "start_time": "2024-02-27T18:44:20.854984600Z"
    }
   },
   "id": "7f8e186155c2d09c"
  },
  {
   "cell_type": "code",
   "execution_count": 29,
   "outputs": [
    {
     "name": "stdout",
     "output_type": "stream",
     "text": [
      "5.477225575051661\n"
     ]
    }
   ],
   "source": [
    "narray = np.arange(1,5)\n",
    "normal = np.linalg.norm(narray, ord=2)\n",
    "print(normal)"
   ],
   "metadata": {
    "collapsed": false,
    "ExecuteTime": {
     "end_time": "2024-02-27T18:45:56.073970100Z",
     "start_time": "2024-02-27T18:45:56.062962800Z"
    }
   },
   "id": "bd24119e97f838f2"
  },
  {
   "cell_type": "code",
   "execution_count": 50,
   "outputs": [
    {
     "ename": "LinAlgError",
     "evalue": "Last 2 dimensions of the array must be square",
     "output_type": "error",
     "traceback": [
      "\u001B[1;31m---------------------------------------------------------------------------\u001B[0m",
      "\u001B[1;31mLinAlgError\u001B[0m                               Traceback (most recent call last)",
      "Cell \u001B[1;32mIn[50], line 4\u001B[0m\n\u001B[0;32m      1\u001B[0m a \u001B[38;5;241m=\u001B[39m np\u001B[38;5;241m.\u001B[39marray([[\u001B[38;5;241m4\u001B[39m, \u001B[38;5;241m3\u001B[39m, \u001B[38;5;241m-\u001B[39m\u001B[38;5;241m5\u001B[39m,], [\u001B[38;5;241m-\u001B[39m\u001B[38;5;241m2\u001B[39m, \u001B[38;5;241m-\u001B[39m\u001B[38;5;241m4\u001B[39m, \u001B[38;5;241m5\u001B[39m], [\u001B[38;5;241m7\u001B[39m, \u001B[38;5;241m8\u001B[39m, \u001B[38;5;241m0\u001B[39m], [\u001B[38;5;241m1\u001B[39m, \u001B[38;5;241m0\u001B[39m, \u001B[38;5;241m2\u001B[39m],[\u001B[38;5;241m9\u001B[39m, \u001B[38;5;241m1\u001B[39m, \u001B[38;5;241m-\u001B[39m\u001B[38;5;241m6\u001B[39m]])\n\u001B[0;32m      2\u001B[0m b \u001B[38;5;241m=\u001B[39m np\u001B[38;5;241m.\u001B[39marray([\u001B[38;5;241m2\u001B[39m, \u001B[38;5;241m5\u001B[39m, \u001B[38;5;241m-\u001B[39m\u001B[38;5;241m3\u001B[39m, \u001B[38;5;241m1\u001B[39m, \u001B[38;5;241m6\u001B[39m])\n\u001B[1;32m----> 4\u001B[0m x \u001B[38;5;241m=\u001B[39m \u001B[43mnp\u001B[49m\u001B[38;5;241;43m.\u001B[39;49m\u001B[43mlinalg\u001B[49m\u001B[38;5;241;43m.\u001B[39;49m\u001B[43msolve\u001B[49m\u001B[43m(\u001B[49m\u001B[43ma\u001B[49m\u001B[43m,\u001B[49m\u001B[43m \u001B[49m\u001B[43mb\u001B[49m\u001B[43m)\u001B[49m\n\u001B[0;32m      5\u001B[0m \u001B[38;5;28mprint\u001B[39m(x)\n",
      "File \u001B[1;32m~\\Desktop\\MathComputation\\venv\\Lib\\site-packages\\numpy\\linalg\\linalg.py:396\u001B[0m, in \u001B[0;36msolve\u001B[1;34m(a, b)\u001B[0m\n\u001B[0;32m    394\u001B[0m a, _ \u001B[38;5;241m=\u001B[39m _makearray(a)\n\u001B[0;32m    395\u001B[0m _assert_stacked_2d(a)\n\u001B[1;32m--> 396\u001B[0m \u001B[43m_assert_stacked_square\u001B[49m\u001B[43m(\u001B[49m\u001B[43ma\u001B[49m\u001B[43m)\u001B[49m\n\u001B[0;32m    397\u001B[0m b, wrap \u001B[38;5;241m=\u001B[39m _makearray(b)\n\u001B[0;32m    398\u001B[0m t, result_t \u001B[38;5;241m=\u001B[39m _commonType(a, b)\n",
      "File \u001B[1;32m~\\Desktop\\MathComputation\\venv\\Lib\\site-packages\\numpy\\linalg\\linalg.py:213\u001B[0m, in \u001B[0;36m_assert_stacked_square\u001B[1;34m(*arrays)\u001B[0m\n\u001B[0;32m    211\u001B[0m m, n \u001B[38;5;241m=\u001B[39m a\u001B[38;5;241m.\u001B[39mshape[\u001B[38;5;241m-\u001B[39m\u001B[38;5;241m2\u001B[39m:]\n\u001B[0;32m    212\u001B[0m \u001B[38;5;28;01mif\u001B[39;00m m \u001B[38;5;241m!=\u001B[39m n:\n\u001B[1;32m--> 213\u001B[0m     \u001B[38;5;28;01mraise\u001B[39;00m LinAlgError(\u001B[38;5;124m'\u001B[39m\u001B[38;5;124mLast 2 dimensions of the array must be square\u001B[39m\u001B[38;5;124m'\u001B[39m)\n",
      "\u001B[1;31mLinAlgError\u001B[0m: Last 2 dimensions of the array must be square"
     ]
    }
   ],
   "source": [
    "a = np.array([[4, 3, -5,], [-2, -4, 5], [7, 8, 0], [1, 0, 2],[9, 1, -6]])\n",
    "b = np.array([2, 5, -3, 1, 6])\n",
    "\n",
    "x = np.linalg.solve(a, b)\n",
    "print(x)"
   ],
   "metadata": {
    "collapsed": false,
    "ExecuteTime": {
     "end_time": "2024-02-27T19:05:32.542579Z",
     "start_time": "2024-02-27T19:05:32.522654900Z"
    }
   },
   "id": "ab1b1ee8bb602641"
  },
  {
   "cell_type": "code",
   "execution_count": 48,
   "outputs": [],
   "source": [
    "#error LinAlgError: Singular matrix\n",
    "\n",
    "#error LinAlgError: Last 2 dimensions of the array must be square"
   ],
   "metadata": {
    "collapsed": false,
    "ExecuteTime": {
     "end_time": "2024-02-27T19:02:50.117282Z",
     "start_time": "2024-02-27T19:02:50.106286Z"
    }
   },
   "id": "80e28e4c45683a9a"
  },
  {
   "cell_type": "code",
   "execution_count": 47,
   "outputs": [
    {
     "name": "stdout",
     "output_type": "stream",
     "text": [
      "[[1. 0. 0.]\n",
      " [0. 1. 0.]\n",
      " [0. 0. 1.]]\n"
     ]
    }
   ],
   "source": [
    "a = np.identity(3)\n",
    "print(a)"
   ],
   "metadata": {
    "collapsed": false,
    "ExecuteTime": {
     "end_time": "2024-02-27T19:01:59.272286100Z",
     "start_time": "2024-02-27T19:01:59.266778800Z"
    }
   },
   "id": "fd910aad2e844892"
  },
  {
   "cell_type": "code",
   "execution_count": 57,
   "outputs": [
    {
     "name": "stdout",
     "output_type": "stream",
     "text": [
      "-78.0\n",
      "[[-0.20512821  0.03846154  0.17948718]\n",
      " [ 0.17948718  0.15384615 -0.28205128]\n",
      " [ 0.28205128 -0.11538462  0.12820513]]\n",
      "3\n",
      "(3, 3)\n"
     ]
    }
   ],
   "source": [
    "#full rank and well conditioned matrix\n",
    "\n",
    "a = np.array([[1, 2, 3],[8, 6,2 ],[5, 1, 3]])\n",
    "det_a = linalg.det(a)\n",
    "print(det_a)\n",
    "inv_a = linalg.inv(a)\n",
    "print(inv_a)\n",
    "rank_a = linalg.matrix_rank(a)\n",
    "print(rank_a)\n",
    "shape_a = a.shape\n",
    "print(shape_a)"
   ],
   "metadata": {
    "collapsed": false,
    "ExecuteTime": {
     "end_time": "2024-02-27T19:18:33.253318100Z",
     "start_time": "2024-02-27T19:18:33.241070700Z"
    }
   },
   "id": "5f35d4c5d619cc31"
  },
  {
   "cell_type": "code",
   "execution_count": null,
   "outputs": [],
   "source": [],
   "metadata": {
    "collapsed": false
   },
   "id": "5e6ddc031ad96a2e"
  }
 ],
 "metadata": {
  "kernelspec": {
   "display_name": "Python 3",
   "language": "python",
   "name": "python3"
  },
  "language_info": {
   "codemirror_mode": {
    "name": "ipython",
    "version": 2
   },
   "file_extension": ".py",
   "mimetype": "text/x-python",
   "name": "python",
   "nbconvert_exporter": "python",
   "pygments_lexer": "ipython2",
   "version": "2.7.6"
  }
 },
 "nbformat": 4,
 "nbformat_minor": 5
}
