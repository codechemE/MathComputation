{
 "cells": [
  {
   "cell_type": "raw",
   "source": [
    "# print \"Hello\" your name"
   ],
   "metadata": {
    "collapsed": false
   },
   "id": "54fb16b8174c720a"
  },
  {
   "cell_type": "code",
   "execution_count": null,
   "outputs": [],
   "source": [
    "print(\"Hello Jefim\")"
   ],
   "metadata": {
    "collapsed": false
   },
   "id": "4405da9570b0c72e"
  },
  {
   "cell_type": "markdown",
   "id": "bbb760de",
   "metadata": {},
   "source": [
    "# what is log of 8\n"
   ]
  },
  {
   "cell_type": "code",
   "execution_count": 4,
   "outputs": [
    {
     "name": "stdout",
     "output_type": "stream",
     "text": [
      "2.0794415416798357\n"
     ]
    }
   ],
   "source": [
    "import numpy as np\n",
    "print(np.log(8))"
   ],
   "metadata": {
    "collapsed": false,
    "ExecuteTime": {
     "end_time": "2024-03-05T22:48:48.136477300Z",
     "start_time": "2024-03-05T22:48:47.670619Z"
    }
   },
   "id": "e8f78a2f59406a29"
  },
  {
   "cell_type": "markdown",
   "id": "2a121ec5",
   "metadata": {},
   "source": [
    "# multiply 35 by 45\n"
   ]
  },
  {
   "cell_type": "code",
   "execution_count": 1,
   "outputs": [
    {
     "name": "stdout",
     "output_type": "stream",
     "text": [
      "1575\n"
     ]
    }
   ],
   "source": [
    "print(35*45)"
   ],
   "metadata": {
    "collapsed": false,
    "ExecuteTime": {
     "end_time": "2024-03-05T22:46:03.312200400Z",
     "start_time": "2024-03-05T22:46:03.305778Z"
    }
   },
   "id": "9b8b8869cc7623a5"
  },
  {
   "cell_type": "markdown",
   "id": "cb13438e",
   "metadata": {},
   "source": [
    "# Calculate the remainder of 123 divide by 7\n"
   ]
  },
  {
   "cell_type": "code",
   "execution_count": 2,
   "outputs": [
    {
     "name": "stdout",
     "output_type": "stream",
     "text": [
      "4\n"
     ]
    }
   ],
   "source": [
    "print(123%7)"
   ],
   "metadata": {
    "collapsed": false,
    "ExecuteTime": {
     "end_time": "2024-03-05T22:46:18.975029700Z",
     "start_time": "2024-03-05T22:46:18.963521900Z"
    }
   },
   "id": "c3773a2069611c3"
  },
  {
   "cell_type": "markdown",
   "id": "094f638c",
   "metadata": {},
   "source": [
    "# divide 29 by 7\n"
   ]
  },
  {
   "cell_type": "code",
   "execution_count": 3,
   "outputs": [
    {
     "name": "stdout",
     "output_type": "stream",
     "text": [
      "4.142857142857143\n"
     ]
    }
   ],
   "source": [
    "print(29.0/7.0)"
   ],
   "metadata": {
    "collapsed": false,
    "ExecuteTime": {
     "end_time": "2024-03-05T22:46:42.689451300Z",
     "start_time": "2024-03-05T22:46:42.678445800Z"
    }
   },
   "id": "2967a433ee840c07"
  },
  {
   "cell_type": "markdown",
   "id": "250854f6",
   "metadata": {},
   "source": [
    "# what is the area of a circle with radius of 5.2 cm?"
   ]
  },
  {
   "cell_type": "code",
   "execution_count": 5,
   "id": "fd63a7d5",
   "metadata": {
    "ExecuteTime": {
     "end_time": "2024-03-05T22:49:41.615215200Z",
     "start_time": "2024-03-05T22:49:41.606940900Z"
    }
   },
   "outputs": [
    {
     "name": "stdout",
     "output_type": "stream",
     "text": [
      "The radius of the circle is 5.2 centimeters. The area of this circle is 84.94866535306801 cm squared.\n"
     ]
    }
   ],
   "source": [
    "def area(radius):\n",
    "    return np.pi*radius**2\n",
    "\n",
    "small_radius = 5.2\n",
    "\n",
    "print(f'The radius of the circle is {small_radius} centimeters. The area of this circle is {area(small_radius)} cm squared.')\n"
   ]
  },
  {
   "cell_type": "code",
   "execution_count": null,
   "outputs": [],
   "source": [],
   "metadata": {
    "collapsed": false
   },
   "id": "6f4b52fcd21fcfe9"
  }
 ],
 "metadata": {
  "kernelspec": {
   "display_name": "Python 3 (ipykernel)",
   "language": "python",
   "name": "python3"
  },
  "language_info": {
   "codemirror_mode": {
    "name": "ipython",
    "version": 3
   },
   "file_extension": ".py",
   "mimetype": "text/x-python",
   "name": "python",
   "nbconvert_exporter": "python",
   "pygments_lexer": "ipython3",
   "version": "3.10.9"
  }
 },
 "nbformat": 4,
 "nbformat_minor": 5
}
