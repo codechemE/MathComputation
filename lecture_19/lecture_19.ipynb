{
 "cells": [
  {
   "cell_type": "code",
   "execution_count": 6,
   "id": "initial_id",
   "metadata": {
    "collapsed": true,
    "ExecuteTime": {
     "end_time": "2024-04-11T17:43:25.783718700Z",
     "start_time": "2024-04-11T17:43:25.777201600Z"
    }
   },
   "outputs": [
    {
     "name": "stdout",
     "output_type": "stream",
     "text": [
      "3.6243757712787272\n"
     ]
    }
   ],
   "source": [
    "import numpy as np\n",
    "from scipy.integrate import quad\n",
    "import matplotlib.pyplot as plt\n",
    "\n",
    "#lower limit of x\n",
    "#value of x at which we want to find y\n",
    "x2 = 1\n",
    "b = 3\n",
    "\n",
    "p = lambda x1: -1*x1/(x1+2)\n",
    "\n",
    "I, _ = quad(p, 0, x2)\n",
    "y_x1 = b*np.exp(-1*I)\n",
    "print(y_x1)\n",
    "\n"
   ]
  },
  {
   "cell_type": "code",
   "execution_count": 5,
   "outputs": [],
   "source": [
    "x = np.linspace(0, 3, 5)\n",
    "y = np.zeros(x.shape)\n",
    "\n",
    "for i, xi in enumerate(x):\n",
    "    I, _ = quad(p, a, xi)\n",
    "    "
   ],
   "metadata": {
    "collapsed": false,
    "ExecuteTime": {
     "end_time": "2024-04-11T17:42:50.962128600Z",
     "start_time": "2024-04-11T17:42:50.955588400Z"
    }
   },
   "id": "d9411a6606a17d31"
  },
  {
   "cell_type": "code",
   "execution_count": null,
   "outputs": [],
   "source": [],
   "metadata": {
    "collapsed": false
   },
   "id": "2fc50542add2f82f"
  }
 ],
 "metadata": {
  "kernelspec": {
   "display_name": "Python 3",
   "language": "python",
   "name": "python3"
  },
  "language_info": {
   "codemirror_mode": {
    "name": "ipython",
    "version": 2
   },
   "file_extension": ".py",
   "mimetype": "text/x-python",
   "name": "python",
   "nbconvert_exporter": "python",
   "pygments_lexer": "ipython2",
   "version": "2.7.6"
  }
 },
 "nbformat": 4,
 "nbformat_minor": 5
}
