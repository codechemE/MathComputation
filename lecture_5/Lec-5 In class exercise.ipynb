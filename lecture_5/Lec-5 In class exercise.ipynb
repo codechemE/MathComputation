{
 "cells": [
  {
   "cell_type": "raw",
   "source": [
    "# Problem 1: Write a function that prints “This is my first function”\n"
   ],
   "metadata": {
    "collapsed": false
   },
   "id": "681962e4720c3eda"
  },
  {
   "cell_type": "raw",
   "source": [
    "# Problem 2: Write a function that returns the sum of two numbers"
   ],
   "metadata": {
    "collapsed": false
   },
   "id": "90163f7e1fa2d1e2"
  },
  {
   "cell_type": "raw",
   "source": [
    "# Write a function that takes strings as keyword arguments and then concatenate the strings\n",
    "        "
   ],
   "metadata": {
    "collapsed": false
   },
   "id": "e11045edd43dcbbe"
  },
  {
   "cell_type": "markdown",
   "source": [
    "Problem 1"
   ],
   "metadata": {
    "collapsed": false
   },
   "id": "7314a45b0fdc9d6"
  },
  {
   "cell_type": "code",
   "execution_count": 1,
   "id": "14dc4baa",
   "metadata": {
    "ExecuteTime": {
     "end_time": "2024-03-05T22:39:13.095505300Z",
     "start_time": "2024-03-05T22:39:13.080988700Z"
    }
   },
   "outputs": [
    {
     "name": "stdout",
     "output_type": "stream",
     "text": [
      "This is my first function\n"
     ]
    }
   ],
   "source": [
    "def helloWorld():\n",
    "    print(\"This is my first function\")\n",
    "    \n",
    "helloWorld()"
   ]
  },
  {
   "cell_type": "markdown",
   "source": [
    "Problem 2"
   ],
   "metadata": {
    "collapsed": false
   },
   "id": "37af1ef258a5d3e7"
  },
  {
   "cell_type": "code",
   "execution_count": 2,
   "outputs": [
    {
     "name": "stdout",
     "output_type": "stream",
     "text": [
      "26\n"
     ]
    }
   ],
   "source": [
    "def add(num_1, num_2):\n",
    "    return num_1 + num_2\n",
    "\n",
    "print(add(12,14))"
   ],
   "metadata": {
    "collapsed": false,
    "ExecuteTime": {
     "end_time": "2024-03-05T22:40:06.958181600Z",
     "start_time": "2024-03-05T22:40:06.950527Z"
    }
   },
   "id": "4bd6e96ebb92e173"
  },
  {
   "cell_type": "markdown",
   "source": [
    "Problem 3"
   ],
   "metadata": {
    "collapsed": false
   },
   "id": "1134ffd03c38727b"
  },
  {
   "cell_type": "code",
   "execution_count": 3,
   "outputs": [
    {
     "name": "stdout",
     "output_type": "stream",
     "text": [
      "Hello World\n"
     ]
    }
   ],
   "source": [
    "def concat(str_1,str_2):\n",
    "    return str_1 + str_2\n",
    "\n",
    "print(concat(\"Hello\",\" World\"))"
   ],
   "metadata": {
    "collapsed": false,
    "ExecuteTime": {
     "end_time": "2024-03-05T22:42:39.185772600Z",
     "start_time": "2024-03-05T22:42:39.173066400Z"
    }
   },
   "id": "6988c049bafa485b"
  },
  {
   "cell_type": "markdown",
   "source": [],
   "metadata": {
    "collapsed": false
   },
   "id": "f7f6e73648d4a395"
  }
 ],
 "metadata": {
  "kernelspec": {
   "display_name": "Python 3 (ipykernel)",
   "language": "python",
   "name": "python3"
  },
  "language_info": {
   "codemirror_mode": {
    "name": "ipython",
    "version": 3
   },
   "file_extension": ".py",
   "mimetype": "text/x-python",
   "name": "python",
   "nbconvert_exporter": "python",
   "pygments_lexer": "ipython3",
   "version": "3.10.9"
  }
 },
 "nbformat": 4,
 "nbformat_minor": 5
}
