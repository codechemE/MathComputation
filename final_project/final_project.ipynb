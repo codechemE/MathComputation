{
 "cells": [
  {
   "cell_type": "code",
   "execution_count": 3,
   "id": "initial_id",
   "metadata": {
    "collapsed": true,
    "ExecuteTime": {
     "end_time": "2024-04-17T00:17:16.074077200Z",
     "start_time": "2024-04-17T00:17:15.299531200Z"
    }
   },
   "outputs": [],
   "source": [
    "import numpy as np\n",
    "import pandas\n",
    "import pandas as pd"
   ]
  },
  {
   "cell_type": "code",
   "execution_count": 4,
   "outputs": [],
   "source": [
    "read_data = pd.read_excel(\"sodium_batteries.xlsx\", skiprows=1)"
   ],
   "metadata": {
    "collapsed": false,
    "ExecuteTime": {
     "end_time": "2024-04-17T00:17:18.357982Z",
     "start_time": "2024-04-17T00:17:17.258861900Z"
    }
   },
   "id": "9d11b4fa215dde8f"
  },
  {
   "cell_type": "raw",
   "source": [
    "First we will check how many different occurrences we have for each data column in the data frame\n",
    "First up Anode properties starting wih anode.Group"
   ],
   "metadata": {
    "collapsed": false
   },
   "id": "f461167bf687a645"
  },
  {
   "cell_type": "code",
   "execution_count": 36,
   "outputs": [
    {
     "name": "stdout",
     "output_type": "stream",
     "text": [
      "Anode.Group\n",
      "Alloy             144\n",
      "Carbon            259\n",
      "Metal Oxide       190\n",
      "Metal Selenide     68\n",
      "Metal Sulfide     100\n",
      "Polyanion          67\n",
      "Polymer            19\n",
      "metalic platin      2\n",
      "metalic sodium    373\n",
      "metalic zinc        7\n",
      "dtype: int64\n",
      "1229\n"
     ]
    }
   ],
   "source": [
    "anode_group = read_data[\"Anode.Group\"]\n",
    "anode_group_unique_values = anode_group.unique()\n",
    "# print(anode_group_unique_values)\n",
    "\n",
    "anode_group_count = read_data.groupby(\"Anode.Group\").size()\n",
    "print(anode_group_count)\n",
    "print(sum(anode_group_count))"
   ],
   "metadata": {
    "collapsed": false,
    "ExecuteTime": {
     "end_time": "2024-04-13T20:31:57.353325100Z",
     "start_time": "2024-04-13T20:31:57.347758200Z"
    }
   },
   "id": "97cf1035109f2cfd"
  },
  {
   "cell_type": "raw",
   "source": [],
   "metadata": {
    "collapsed": false
   },
   "id": "f40d8e8da4aaa082"
  },
  {
   "cell_type": "markdown",
   "source": [
    "Next up is Anode Crystal Structures\n"
   ],
   "metadata": {
    "collapsed": false
   },
   "id": "ec2af13d206f8eaa"
  },
  {
   "cell_type": "code",
   "execution_count": 47,
   "outputs": [
    {
     "name": "stdout",
     "output_type": "stream",
     "text": [
      "Anode.Crystal Structure\n",
      "Amorphous phase                325\n",
      "cubic                          424\n",
      "cubic / orthorhombic             1\n",
      "cubic / rhombohedral             6\n",
      "face centered cubic              8\n",
      "hexagonal                      118\n",
      "hexagonal / tetragonal           5\n",
      "monoclinic                      25\n",
      "not mention                     13\n",
      "orthorhombic                    55\n",
      "orthorhombic / rhombohedral      2\n",
      "polycrystal                     16\n",
      "rhombohedral                    77\n",
      "tetragonal                     123\n",
      "tetragonal / trigonal            2\n",
      "triclinic                       10\n",
      "trigonal                        19\n",
      "dtype: int64\n",
      "1229\n"
     ]
    }
   ],
   "source": [
    "anode_crystal_struct = read_data[\"Anode.Crystal Structure\"] \n",
    "anode_crystal_struct_unique_values = anode_crystal_struct.unique()\n",
    "anode_crystal_struct_count = read_data.groupby(\"Anode.Crystal Structure\").size()\n",
    "# print(anode_crystal_struct_unique_values)\n",
    "print(anode_crystal_struct_count)\n",
    "print(sum(anode_crystal_struct_count))"
   ],
   "metadata": {
    "collapsed": false,
    "ExecuteTime": {
     "end_time": "2024-04-14T00:06:27.005001Z",
     "start_time": "2024-04-14T00:06:26.989768700Z"
    }
   },
   "id": "865bfdc150721d39"
  },
  {
   "cell_type": "raw",
   "source": [
    "iiNext up: Anode Synthesis\n"
   ],
   "metadata": {
    "collapsed": false
   },
   "id": "59e3ed068525a66b"
  },
  {
   "cell_type": "code",
   "execution_count": 45,
   "outputs": [
    {
     "name": "stdout",
     "output_type": "stream",
     "text": [
      "Anode.Synthesis Method\n",
      "                               475\n",
      " HT-SSR                          1\n",
      " solvothermal                    4\n",
      "HT-SSR                          67\n",
      "acid-leaching                    5\n",
      "annealing                       18\n",
      "ball-mill                       56\n",
      "calcination                     13\n",
      "carbonization                   36\n",
      "chemical reduction              38\n",
      "chemical reduction               1\n",
      "chemical synthesis              10\n",
      "chemical vapor deposition        7\n",
      "electrochemical deposition      44\n",
      "electrochemical deposition       3\n",
      "electrospinning                 23\n",
      "electrospinning                  6\n",
      "hummer                          11\n",
      "hydrothermal                   179\n",
      "hydrothermal                     7\n",
      "not mention                      1\n",
      "other                           37\n",
      "polymerization                  21\n",
      "pyrolysis                       50\n",
      "salt-templating                  1\n",
      "sol-gel                         30\n",
      "solvothermal                    83\n",
      "solvothermal                     2\n",
      "dtype: int64\n"
     ]
    }
   ],
   "source": [
    "anode_synthesis_meth = read_data[\"Anode.Synthesis Method\"]\n",
    "print(read_data.groupby(\"Anode.Synthesis Method\").size())\n"
   ],
   "metadata": {
    "collapsed": false,
    "ExecuteTime": {
     "end_time": "2024-04-13T21:30:58.642432Z",
     "start_time": "2024-04-13T21:30:58.636433Z"
    }
   },
   "id": "da2e820cae003777"
  },
  {
   "cell_type": "raw",
   "source": [
    "Next we will analyze Anode Production Atmosphere"
   ],
   "metadata": {
    "collapsed": false
   },
   "id": "350753bf41b5e3f"
  },
  {
   "cell_type": "code",
   "execution_count": 48,
   "outputs": [
    {
     "name": "stdout",
     "output_type": "stream",
     "text": [
      "Anode.Production Atmosphere\n",
      "               482\n",
      "Air            180\n",
      "Ar             278\n",
      "Ar + 10% H2     16\n",
      "Ar + 2% H2       1\n",
      "Ar + 4% H2       2\n",
      "Ar + 5% H2      62\n",
      "Ar/ N2           4\n",
      "N2              78\n",
      "air              2\n",
      "aqueous         24\n",
      "non-aqueous     34\n",
      "not mention      7\n",
      "vacuum           5\n",
      "water           54\n",
      "dtype: int64\n"
     ]
    }
   ],
   "source": [
    "anode_production_atmosphere = read_data[\"Anode.Production Atmosphere\"]\n",
    "print(read_data.groupby(\"Anode.Production Atmosphere\").size())\n",
    "#too many missing values, not enough data to draw conclusions from"
   ],
   "metadata": {
    "collapsed": false,
    "ExecuteTime": {
     "end_time": "2024-04-14T00:09:58.264173100Z",
     "start_time": "2024-04-14T00:09:58.252618300Z"
    }
   },
   "id": "4fea2feba30ba366"
  },
  {
   "cell_type": "markdown",
   "source": [
    "Anode Heat treatment\n"
   ],
   "metadata": {
    "collapsed": false
   },
   "id": "2c198ee9836dd12b"
  },
  {
   "cell_type": "code",
   "execution_count": 49,
   "outputs": [
    {
     "name": "stdout",
     "output_type": "stream",
     "text": [
      "Anode.Heat treatment\n",
      "               588\n",
      "not mention      3\n",
      "single step    351\n",
      "three step      11\n",
      "two step       276\n",
      "dtype: int64\n"
     ]
    }
   ],
   "source": [
    "anode_heat_treatment = read_data[\"Anode.Heat treatment\"]\n",
    "print(read_data.groupby(\"Anode.Heat treatment\").size())\n",
    "#too many missing values, not enough data to draw conclusions from"
   ],
   "metadata": {
    "collapsed": false,
    "ExecuteTime": {
     "end_time": "2024-04-14T00:12:37.069604200Z",
     "start_time": "2024-04-14T00:12:37.049065900Z"
    }
   },
   "id": "5c76db589c5f1194"
  },
  {
   "cell_type": "raw",
   "source": [],
   "metadata": {
    "collapsed": false
   },
   "id": "76a4a8c3deb37f53"
  },
  {
   "cell_type": "code",
   "execution_count": null,
   "outputs": [],
   "source": [],
   "metadata": {
    "collapsed": false
   },
   "id": "3a8c3531025e00cf"
  },
  {
   "cell_type": "code",
   "execution_count": null,
   "outputs": [],
   "source": [],
   "metadata": {
    "collapsed": false
   },
   "id": "d6c21013774554bb"
  },
  {
   "cell_type": "code",
   "execution_count": null,
   "outputs": [],
   "source": [],
   "metadata": {
    "collapsed": false
   },
   "id": "a2417b528dff579f"
  },
  {
   "cell_type": "raw",
   "source": [
    "Electrolyte"
   ],
   "metadata": {
    "collapsed": false
   },
   "id": "c9e45e0a950a76b4"
  },
  {
   "cell_type": "code",
   "execution_count": 50,
   "outputs": [
    {
     "name": "stdout",
     "output_type": "stream",
     "text": [
      "Salt\n",
      "LiPF6                    1\n",
      "Na2SO4                  24\n",
      "NaCF3SO3                39\n",
      "NaCIO4                 848\n",
      "NaDFOB                   2\n",
      "NaFSI                    6\n",
      "NaNO3                    1\n",
      "NaOTF                    1\n",
      "NaPF6                  294\n",
      "NaTFSI                  10\n",
      "PFSA-Na                  2\n",
      "Poly(ethyleneoxide)      1\n",
      "dtype: int64\n"
     ]
    }
   ],
   "source": [
    "electrolyte_salt = read_data[\"Salt\"]\n",
    "electrolyte_salt_count = read_data.groupby(\"Salt\").size()\n",
    "print(electrolyte_salt_count)"
   ],
   "metadata": {
    "collapsed": false,
    "ExecuteTime": {
     "end_time": "2024-04-14T00:17:24.840202600Z",
     "start_time": "2024-04-14T00:17:24.821940400Z"
    }
   },
   "id": "a37d4645e65c69fc"
  },
  {
   "cell_type": "code",
   "execution_count": 60,
   "outputs": [
    {
     "name": "stdout",
     "output_type": "stream",
     "text": [
      "Salt Concentration (mol/L)\n",
      "0.05        1\n",
      "0.1         1\n",
      "0.3         6\n",
      "0.45        1\n",
      "0.5        18\n",
      "0.6         8\n",
      "0.7         5\n",
      "0.8        10\n",
      "0.91        2\n",
      "1        1139\n",
      "2           8\n",
      "2.23        1\n",
      "2.329       1\n",
      "2.5         2\n",
      "3           1\n",
      "4           6\n",
      "5           1\n",
      "8           1\n",
      "9.2         1\n",
      "9.66        1\n",
      "11.52       1\n",
      "13.77       3\n",
      "13.79       1\n",
      "15.89       1\n",
      "31.18       1\n",
      "37.85       7\n",
      "            1\n",
      "dtype: int64\n"
     ]
    }
   ],
   "source": [
    "salt_concentration = read_data[\"Salt Concentration (mol/L)\"]\n",
    "salt_concentration_count = read_data.groupby(\"Salt Concentration (mol/L)\").size()\n",
    "print(salt_concentration_count)"
   ],
   "metadata": {
    "collapsed": false,
    "ExecuteTime": {
     "end_time": "2024-04-14T00:29:01.677132Z",
     "start_time": "2024-04-14T00:29:01.665924500Z"
    }
   },
   "id": "6bff9fdee94a344d"
  },
  {
   "cell_type": "code",
   "execution_count": 7,
   "outputs": [
    {
     "ename": "KeyError",
     "evalue": "'Solvent'",
     "output_type": "error",
     "traceback": [
      "\u001B[1;31m---------------------------------------------------------------------------\u001B[0m",
      "\u001B[1;31mKeyError\u001B[0m                                  Traceback (most recent call last)",
      "File \u001B[1;32m~\\anaconda3\\Lib\\site-packages\\pandas\\core\\indexes\\base.py:3653\u001B[0m, in \u001B[0;36mIndex.get_loc\u001B[1;34m(self, key)\u001B[0m\n\u001B[0;32m   3652\u001B[0m \u001B[38;5;28;01mtry\u001B[39;00m:\n\u001B[1;32m-> 3653\u001B[0m     \u001B[38;5;28;01mreturn\u001B[39;00m \u001B[38;5;28mself\u001B[39m\u001B[38;5;241m.\u001B[39m_engine\u001B[38;5;241m.\u001B[39mget_loc(casted_key)\n\u001B[0;32m   3654\u001B[0m \u001B[38;5;28;01mexcept\u001B[39;00m \u001B[38;5;167;01mKeyError\u001B[39;00m \u001B[38;5;28;01mas\u001B[39;00m err:\n",
      "File \u001B[1;32m~\\anaconda3\\Lib\\site-packages\\pandas\\_libs\\index.pyx:147\u001B[0m, in \u001B[0;36mpandas._libs.index.IndexEngine.get_loc\u001B[1;34m()\u001B[0m\n",
      "File \u001B[1;32m~\\anaconda3\\Lib\\site-packages\\pandas\\_libs\\index.pyx:176\u001B[0m, in \u001B[0;36mpandas._libs.index.IndexEngine.get_loc\u001B[1;34m()\u001B[0m\n",
      "File \u001B[1;32mpandas\\_libs\\hashtable_class_helper.pxi:7080\u001B[0m, in \u001B[0;36mpandas._libs.hashtable.PyObjectHashTable.get_item\u001B[1;34m()\u001B[0m\n",
      "File \u001B[1;32mpandas\\_libs\\hashtable_class_helper.pxi:7088\u001B[0m, in \u001B[0;36mpandas._libs.hashtable.PyObjectHashTable.get_item\u001B[1;34m()\u001B[0m\n",
      "\u001B[1;31mKeyError\u001B[0m: 'Solvent'",
      "\nThe above exception was the direct cause of the following exception:\n",
      "\u001B[1;31mKeyError\u001B[0m                                  Traceback (most recent call last)",
      "Cell \u001B[1;32mIn[7], line 1\u001B[0m\n\u001B[1;32m----> 1\u001B[0m electrolyte_solvent \u001B[38;5;241m=\u001B[39m read_data[\u001B[38;5;124m\"\u001B[39m\u001B[38;5;124mSolvent\u001B[39m\u001B[38;5;124m\"\u001B[39m]\n\u001B[0;32m      2\u001B[0m salt_concentration_count \u001B[38;5;241m=\u001B[39m read_data\u001B[38;5;241m.\u001B[39mgroupby(\u001B[38;5;124m\"\u001B[39m\u001B[38;5;124mSolvent\u001B[39m\u001B[38;5;124m\"\u001B[39m)\u001B[38;5;241m.\u001B[39msize()\n\u001B[0;32m      3\u001B[0m \u001B[38;5;28mprint\u001B[39m(salt_concentration_count)\n",
      "File \u001B[1;32m~\\anaconda3\\Lib\\site-packages\\pandas\\core\\frame.py:3761\u001B[0m, in \u001B[0;36mDataFrame.__getitem__\u001B[1;34m(self, key)\u001B[0m\n\u001B[0;32m   3759\u001B[0m \u001B[38;5;28;01mif\u001B[39;00m \u001B[38;5;28mself\u001B[39m\u001B[38;5;241m.\u001B[39mcolumns\u001B[38;5;241m.\u001B[39mnlevels \u001B[38;5;241m>\u001B[39m \u001B[38;5;241m1\u001B[39m:\n\u001B[0;32m   3760\u001B[0m     \u001B[38;5;28;01mreturn\u001B[39;00m \u001B[38;5;28mself\u001B[39m\u001B[38;5;241m.\u001B[39m_getitem_multilevel(key)\n\u001B[1;32m-> 3761\u001B[0m indexer \u001B[38;5;241m=\u001B[39m \u001B[38;5;28mself\u001B[39m\u001B[38;5;241m.\u001B[39mcolumns\u001B[38;5;241m.\u001B[39mget_loc(key)\n\u001B[0;32m   3762\u001B[0m \u001B[38;5;28;01mif\u001B[39;00m is_integer(indexer):\n\u001B[0;32m   3763\u001B[0m     indexer \u001B[38;5;241m=\u001B[39m [indexer]\n",
      "File \u001B[1;32m~\\anaconda3\\Lib\\site-packages\\pandas\\core\\indexes\\base.py:3655\u001B[0m, in \u001B[0;36mIndex.get_loc\u001B[1;34m(self, key)\u001B[0m\n\u001B[0;32m   3653\u001B[0m     \u001B[38;5;28;01mreturn\u001B[39;00m \u001B[38;5;28mself\u001B[39m\u001B[38;5;241m.\u001B[39m_engine\u001B[38;5;241m.\u001B[39mget_loc(casted_key)\n\u001B[0;32m   3654\u001B[0m \u001B[38;5;28;01mexcept\u001B[39;00m \u001B[38;5;167;01mKeyError\u001B[39;00m \u001B[38;5;28;01mas\u001B[39;00m err:\n\u001B[1;32m-> 3655\u001B[0m     \u001B[38;5;28;01mraise\u001B[39;00m \u001B[38;5;167;01mKeyError\u001B[39;00m(key) \u001B[38;5;28;01mfrom\u001B[39;00m \u001B[38;5;21;01merr\u001B[39;00m\n\u001B[0;32m   3656\u001B[0m \u001B[38;5;28;01mexcept\u001B[39;00m \u001B[38;5;167;01mTypeError\u001B[39;00m:\n\u001B[0;32m   3657\u001B[0m     \u001B[38;5;66;03m# If we have a listlike key, _check_indexing_error will raise\u001B[39;00m\n\u001B[0;32m   3658\u001B[0m     \u001B[38;5;66;03m#  InvalidIndexError. Otherwise we fall through and re-raise\u001B[39;00m\n\u001B[0;32m   3659\u001B[0m     \u001B[38;5;66;03m#  the TypeError.\u001B[39;00m\n\u001B[0;32m   3660\u001B[0m     \u001B[38;5;28mself\u001B[39m\u001B[38;5;241m.\u001B[39m_check_indexing_error(key)\n",
      "\u001B[1;31mKeyError\u001B[0m: 'Solvent'"
     ]
    }
   ],
   "source": [
    "electrolyte_solvent = read_data[\"Solvent\"]\n",
    "salt_concentration_count = read_data.groupby(\"Solvent\").size()\n",
    "print(salt_concentration_count)"
   ],
   "metadata": {
    "collapsed": false,
    "ExecuteTime": {
     "end_time": "2024-04-16T17:55:24.920914Z",
     "start_time": "2024-04-16T17:55:24.876862700Z"
    }
   },
   "id": "1fa9d6f49e7fe318"
  },
  {
   "cell_type": "raw",
   "source": [
    "Cathode Analysis"
   ],
   "metadata": {
    "collapsed": false
   },
   "id": "19d608e15ba2e432"
  },
  {
   "cell_type": "code",
   "execution_count": 10,
   "outputs": [
    {
     "name": "stdout",
     "output_type": "stream",
     "text": [
      "Cathode.Group\n",
      "Carbon                     8\n",
      "Metal Oxide\\n            203\n",
      "Metal Sulfide              4\n",
      "Polyanion                212\n",
      "Polymer                   24\n",
      "Prussian Blue Analoge     38\n",
      "metalic platinum           2\n",
      "metalic sodium           738\n",
      "dtype: int64\n"
     ]
    }
   ],
   "source": [
    "cathode_group = read_data[\"Cathode.Group\"]\n",
    "cathode_group_count = read_data.groupby(\"Cathode.Group\").size()\n",
    "print(cathode_group_count)"
   ],
   "metadata": {
    "collapsed": false,
    "ExecuteTime": {
     "end_time": "2024-04-16T18:01:51.249216200Z",
     "start_time": "2024-04-16T18:01:51.214550800Z"
    }
   },
   "id": "e3055e57823e5010"
  },
  {
   "cell_type": "code",
   "execution_count": 11,
   "outputs": [
    {
     "name": "stdout",
     "output_type": "stream",
     "text": [
      "Cathode.Crystal\n",
      "Face-centered cubic     10\n",
      "amorphous               43\n",
      "cubic                  773\n",
      "hexagonal              114\n",
      "monoclinic              49\n",
      "orthorhombic            69\n",
      "rhombicuboctahedron      1\n",
      "rhombohedral            94\n",
      "tetragonal              59\n",
      "triclinic               15\n",
      "trigonal                 2\n",
      "dtype: int64\n"
     ]
    }
   ],
   "source": [
    "cathode_crystal = read_data[\"Cathode.Crystal\"]\n",
    "cathode_crystal_count = read_data.groupby(\"Cathode.Crystal\").size()\n",
    "print(cathode_crystal_count)\n"
   ],
   "metadata": {
    "collapsed": false,
    "ExecuteTime": {
     "end_time": "2024-04-16T18:07:44.713006100Z",
     "start_time": "2024-04-16T18:07:44.694300200Z"
    }
   },
   "id": "500d67f2c27eafb9"
  },
  {
   "cell_type": "code",
   "execution_count": 5,
   "outputs": [
    {
     "name": "stdout",
     "output_type": "stream",
     "text": [
      "Cathode.Structure\n",
      "bare         1025\n",
      "coated        145\n",
      "composite      59\n",
      "dtype: int64\n"
     ]
    }
   ],
   "source": [
    "cathode_structure = read_data[\"Cathode.Structure\"]\n",
    "cathode_structure_count = read_data.groupby(\"Cathode.Structure\").size()\n",
    "print(cathode_structure_count)"
   ],
   "metadata": {
    "collapsed": false,
    "ExecuteTime": {
     "end_time": "2024-04-17T00:17:23.405489900Z",
     "start_time": "2024-04-17T00:17:23.399678200Z"
    }
   },
   "id": "11807cdb0dc25fc8"
  },
  {
   "cell_type": "code",
   "execution_count": null,
   "outputs": [],
   "source": [],
   "metadata": {
    "collapsed": false
   },
   "id": "3936c2ed8b5cbc6b"
  }
 ],
 "metadata": {
  "kernelspec": {
   "display_name": "Python 3",
   "language": "python",
   "name": "python3"
  },
  "language_info": {
   "codemirror_mode": {
    "name": "ipython",
    "version": 2
   },
   "file_extension": ".py",
   "mimetype": "text/x-python",
   "name": "python",
   "nbconvert_exporter": "python",
   "pygments_lexer": "ipython2",
   "version": "2.7.6"
  }
 },
 "nbformat": 4,
 "nbformat_minor": 5
}
