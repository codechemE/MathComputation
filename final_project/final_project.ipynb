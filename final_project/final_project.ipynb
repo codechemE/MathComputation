{
 "cells": [
  {
   "cell_type": "code",
   "execution_count": 2,
   "id": "initial_id",
   "metadata": {
    "collapsed": true,
    "ExecuteTime": {
     "end_time": "2024-04-13T19:38:10.941449Z",
     "start_time": "2024-04-13T19:38:10.335248800Z"
    }
   },
   "outputs": [],
   "source": [
    "import numpy as np\n",
    "import pandas\n",
    "import pandas as pd"
   ]
  },
  {
   "cell_type": "code",
   "execution_count": 8,
   "outputs": [],
   "source": [
    "read_data = pd.read_excel(\"sodium_batteries.xlsx\", skiprows=1)"
   ],
   "metadata": {
    "collapsed": false,
    "ExecuteTime": {
     "end_time": "2024-04-13T19:46:03.788353600Z",
     "start_time": "2024-04-13T19:46:03.369609500Z"
    }
   },
   "id": "9d11b4fa215dde8f"
  },
  {
   "cell_type": "code",
   "execution_count": 16,
   "outputs": [
    {
     "name": "stdout",
     "output_type": "stream",
     "text": [
      "<class 'pandas.core.series.Series'>\n"
     ]
    }
   ],
   "source": [
    "anode_group = read_data[\"Anode.Group\"]\n"
   ],
   "metadata": {
    "collapsed": false,
    "ExecuteTime": {
     "end_time": "2024-04-13T19:57:26.926491300Z",
     "start_time": "2024-04-13T19:57:26.919461700Z"
    }
   },
   "id": "a78665851cfb1938"
  },
  {
   "cell_type": "raw",
   "source": [
    "First we will check how many different occurrences we have for each data column in the data frame\n",
    "First up Anode properties starting wih anode.Group"
   ],
   "metadata": {
    "collapsed": false
   },
   "id": "f461167bf687a645"
  },
  {
   "cell_type": "code",
   "execution_count": 28,
   "outputs": [
    {
     "name": "stdout",
     "output_type": "stream",
     "text": [
      "Anode.Group\n",
      "Alloy             144\n",
      "Carbon            259\n",
      "Metal Oxide       190\n",
      "Metal Selenide     68\n",
      "Metal Sulfide     100\n",
      "Polyanion          67\n",
      "Polymer            19\n",
      "metalic platin      2\n",
      "metalic sodium    373\n",
      "metalic zinc        7\n",
      "dtype: int64\n"
     ]
    }
   ],
   "source": [
    "anode_group_unique_values = anode_group.unique()\n",
    "# print(anode_group_unique_values)\n",
    "\n",
    "anode_group_count = read_data.groupby(\"Anode.Group\").size()\n",
    "print(anode_group_count)"
   ],
   "metadata": {
    "collapsed": false,
    "ExecuteTime": {
     "end_time": "2024-04-13T20:19:27.981129300Z",
     "start_time": "2024-04-13T20:19:27.972411100Z"
    }
   },
   "id": "97cf1035109f2cfd"
  },
  {
   "cell_type": "raw",
   "source": [],
   "metadata": {
    "collapsed": false
   },
   "id": "f40d8e8da4aaa082"
  },
  {
   "cell_type": "markdown",
   "source": [
    "Next up is Anode Crystal Structures\n"
   ],
   "metadata": {
    "collapsed": false
   },
   "id": "ec2af13d206f8eaa"
  },
  {
   "cell_type": "code",
   "execution_count": null,
   "outputs": [],
   "source": [],
   "metadata": {
    "collapsed": false
   },
   "id": "865bfdc150721d39"
  }
 ],
 "metadata": {
  "kernelspec": {
   "display_name": "Python 3",
   "language": "python",
   "name": "python3"
  },
  "language_info": {
   "codemirror_mode": {
    "name": "ipython",
    "version": 2
   },
   "file_extension": ".py",
   "mimetype": "text/x-python",
   "name": "python",
   "nbconvert_exporter": "python",
   "pygments_lexer": "ipython2",
   "version": "2.7.6"
  }
 },
 "nbformat": 4,
 "nbformat_minor": 5
}
