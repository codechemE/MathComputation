{
 "cells": [
  {
   "cell_type": "code",
   "execution_count": 23,
   "outputs": [],
   "source": [
    "import pandas as pd\n",
    "from sklearn.datasets import load_breast_cancer"
   ],
   "metadata": {
    "collapsed": false,
    "ExecuteTime": {
     "end_time": "2024-04-28T03:49:36.033087300Z",
     "start_time": "2024-04-28T03:49:35.945704900Z"
    }
   },
   "id": "8dbb2d1fd39c0a16"
  },
  {
   "cell_type": "markdown",
   "source": [
    "# Import the data "
   ],
   "metadata": {
    "collapsed": false
   },
   "id": "af5b551d5b2ec593"
  },
  {
   "cell_type": "code",
   "execution_count": 24,
   "outputs": [
    {
     "data": {
      "text/plain": "     mean radius  mean texture  mean perimeter  mean area  mean smoothness  \\\n0          17.99         10.38          122.80     1001.0          0.11840   \n1          20.57         17.77          132.90     1326.0          0.08474   \n2          19.69         21.25          130.00     1203.0          0.10960   \n3          11.42         20.38           77.58      386.1          0.14250   \n4          20.29         14.34          135.10     1297.0          0.10030   \n..           ...           ...             ...        ...              ...   \n564        21.56         22.39          142.00     1479.0          0.11100   \n565        20.13         28.25          131.20     1261.0          0.09780   \n566        16.60         28.08          108.30      858.1          0.08455   \n567        20.60         29.33          140.10     1265.0          0.11780   \n568         7.76         24.54           47.92      181.0          0.05263   \n\n     mean compactness  mean concavity  mean concave points  mean symmetry  \\\n0             0.27760         0.30010              0.14710         0.2419   \n1             0.07864         0.08690              0.07017         0.1812   \n2             0.15990         0.19740              0.12790         0.2069   \n3             0.28390         0.24140              0.10520         0.2597   \n4             0.13280         0.19800              0.10430         0.1809   \n..                ...             ...                  ...            ...   \n564           0.11590         0.24390              0.13890         0.1726   \n565           0.10340         0.14400              0.09791         0.1752   \n566           0.10230         0.09251              0.05302         0.1590   \n567           0.27700         0.35140              0.15200         0.2397   \n568           0.04362         0.00000              0.00000         0.1587   \n\n     mean fractal dimension  ...  worst radius  worst texture  \\\n0                   0.07871  ...        25.380          17.33   \n1                   0.05667  ...        24.990          23.41   \n2                   0.05999  ...        23.570          25.53   \n3                   0.09744  ...        14.910          26.50   \n4                   0.05883  ...        22.540          16.67   \n..                      ...  ...           ...            ...   \n564                 0.05623  ...        25.450          26.40   \n565                 0.05533  ...        23.690          38.25   \n566                 0.05648  ...        18.980          34.12   \n567                 0.07016  ...        25.740          39.42   \n568                 0.05884  ...         9.456          30.37   \n\n     worst perimeter  worst area  worst smoothness  worst compactness  \\\n0             184.60      2019.0           0.16220            0.66560   \n1             158.80      1956.0           0.12380            0.18660   \n2             152.50      1709.0           0.14440            0.42450   \n3              98.87       567.7           0.20980            0.86630   \n4             152.20      1575.0           0.13740            0.20500   \n..               ...         ...               ...                ...   \n564           166.10      2027.0           0.14100            0.21130   \n565           155.00      1731.0           0.11660            0.19220   \n566           126.70      1124.0           0.11390            0.30940   \n567           184.60      1821.0           0.16500            0.86810   \n568            59.16       268.6           0.08996            0.06444   \n\n     worst concavity  worst concave points  worst symmetry  \\\n0             0.7119                0.2654          0.4601   \n1             0.2416                0.1860          0.2750   \n2             0.4504                0.2430          0.3613   \n3             0.6869                0.2575          0.6638   \n4             0.4000                0.1625          0.2364   \n..               ...                   ...             ...   \n564           0.4107                0.2216          0.2060   \n565           0.3215                0.1628          0.2572   \n566           0.3403                0.1418          0.2218   \n567           0.9387                0.2650          0.4087   \n568           0.0000                0.0000          0.2871   \n\n     worst fractal dimension  \n0                    0.11890  \n1                    0.08902  \n2                    0.08758  \n3                    0.17300  \n4                    0.07678  \n..                       ...  \n564                  0.07115  \n565                  0.06637  \n566                  0.07820  \n567                  0.12400  \n568                  0.07039  \n\n[569 rows x 30 columns]",
      "text/html": "<div>\n<style scoped>\n    .dataframe tbody tr th:only-of-type {\n        vertical-align: middle;\n    }\n\n    .dataframe tbody tr th {\n        vertical-align: top;\n    }\n\n    .dataframe thead th {\n        text-align: right;\n    }\n</style>\n<table border=\"1\" class=\"dataframe\">\n  <thead>\n    <tr style=\"text-align: right;\">\n      <th></th>\n      <th>mean radius</th>\n      <th>mean texture</th>\n      <th>mean perimeter</th>\n      <th>mean area</th>\n      <th>mean smoothness</th>\n      <th>mean compactness</th>\n      <th>mean concavity</th>\n      <th>mean concave points</th>\n      <th>mean symmetry</th>\n      <th>mean fractal dimension</th>\n      <th>...</th>\n      <th>worst radius</th>\n      <th>worst texture</th>\n      <th>worst perimeter</th>\n      <th>worst area</th>\n      <th>worst smoothness</th>\n      <th>worst compactness</th>\n      <th>worst concavity</th>\n      <th>worst concave points</th>\n      <th>worst symmetry</th>\n      <th>worst fractal dimension</th>\n    </tr>\n  </thead>\n  <tbody>\n    <tr>\n      <th>0</th>\n      <td>17.99</td>\n      <td>10.38</td>\n      <td>122.80</td>\n      <td>1001.0</td>\n      <td>0.11840</td>\n      <td>0.27760</td>\n      <td>0.30010</td>\n      <td>0.14710</td>\n      <td>0.2419</td>\n      <td>0.07871</td>\n      <td>...</td>\n      <td>25.380</td>\n      <td>17.33</td>\n      <td>184.60</td>\n      <td>2019.0</td>\n      <td>0.16220</td>\n      <td>0.66560</td>\n      <td>0.7119</td>\n      <td>0.2654</td>\n      <td>0.4601</td>\n      <td>0.11890</td>\n    </tr>\n    <tr>\n      <th>1</th>\n      <td>20.57</td>\n      <td>17.77</td>\n      <td>132.90</td>\n      <td>1326.0</td>\n      <td>0.08474</td>\n      <td>0.07864</td>\n      <td>0.08690</td>\n      <td>0.07017</td>\n      <td>0.1812</td>\n      <td>0.05667</td>\n      <td>...</td>\n      <td>24.990</td>\n      <td>23.41</td>\n      <td>158.80</td>\n      <td>1956.0</td>\n      <td>0.12380</td>\n      <td>0.18660</td>\n      <td>0.2416</td>\n      <td>0.1860</td>\n      <td>0.2750</td>\n      <td>0.08902</td>\n    </tr>\n    <tr>\n      <th>2</th>\n      <td>19.69</td>\n      <td>21.25</td>\n      <td>130.00</td>\n      <td>1203.0</td>\n      <td>0.10960</td>\n      <td>0.15990</td>\n      <td>0.19740</td>\n      <td>0.12790</td>\n      <td>0.2069</td>\n      <td>0.05999</td>\n      <td>...</td>\n      <td>23.570</td>\n      <td>25.53</td>\n      <td>152.50</td>\n      <td>1709.0</td>\n      <td>0.14440</td>\n      <td>0.42450</td>\n      <td>0.4504</td>\n      <td>0.2430</td>\n      <td>0.3613</td>\n      <td>0.08758</td>\n    </tr>\n    <tr>\n      <th>3</th>\n      <td>11.42</td>\n      <td>20.38</td>\n      <td>77.58</td>\n      <td>386.1</td>\n      <td>0.14250</td>\n      <td>0.28390</td>\n      <td>0.24140</td>\n      <td>0.10520</td>\n      <td>0.2597</td>\n      <td>0.09744</td>\n      <td>...</td>\n      <td>14.910</td>\n      <td>26.50</td>\n      <td>98.87</td>\n      <td>567.7</td>\n      <td>0.20980</td>\n      <td>0.86630</td>\n      <td>0.6869</td>\n      <td>0.2575</td>\n      <td>0.6638</td>\n      <td>0.17300</td>\n    </tr>\n    <tr>\n      <th>4</th>\n      <td>20.29</td>\n      <td>14.34</td>\n      <td>135.10</td>\n      <td>1297.0</td>\n      <td>0.10030</td>\n      <td>0.13280</td>\n      <td>0.19800</td>\n      <td>0.10430</td>\n      <td>0.1809</td>\n      <td>0.05883</td>\n      <td>...</td>\n      <td>22.540</td>\n      <td>16.67</td>\n      <td>152.20</td>\n      <td>1575.0</td>\n      <td>0.13740</td>\n      <td>0.20500</td>\n      <td>0.4000</td>\n      <td>0.1625</td>\n      <td>0.2364</td>\n      <td>0.07678</td>\n    </tr>\n    <tr>\n      <th>...</th>\n      <td>...</td>\n      <td>...</td>\n      <td>...</td>\n      <td>...</td>\n      <td>...</td>\n      <td>...</td>\n      <td>...</td>\n      <td>...</td>\n      <td>...</td>\n      <td>...</td>\n      <td>...</td>\n      <td>...</td>\n      <td>...</td>\n      <td>...</td>\n      <td>...</td>\n      <td>...</td>\n      <td>...</td>\n      <td>...</td>\n      <td>...</td>\n      <td>...</td>\n      <td>...</td>\n    </tr>\n    <tr>\n      <th>564</th>\n      <td>21.56</td>\n      <td>22.39</td>\n      <td>142.00</td>\n      <td>1479.0</td>\n      <td>0.11100</td>\n      <td>0.11590</td>\n      <td>0.24390</td>\n      <td>0.13890</td>\n      <td>0.1726</td>\n      <td>0.05623</td>\n      <td>...</td>\n      <td>25.450</td>\n      <td>26.40</td>\n      <td>166.10</td>\n      <td>2027.0</td>\n      <td>0.14100</td>\n      <td>0.21130</td>\n      <td>0.4107</td>\n      <td>0.2216</td>\n      <td>0.2060</td>\n      <td>0.07115</td>\n    </tr>\n    <tr>\n      <th>565</th>\n      <td>20.13</td>\n      <td>28.25</td>\n      <td>131.20</td>\n      <td>1261.0</td>\n      <td>0.09780</td>\n      <td>0.10340</td>\n      <td>0.14400</td>\n      <td>0.09791</td>\n      <td>0.1752</td>\n      <td>0.05533</td>\n      <td>...</td>\n      <td>23.690</td>\n      <td>38.25</td>\n      <td>155.00</td>\n      <td>1731.0</td>\n      <td>0.11660</td>\n      <td>0.19220</td>\n      <td>0.3215</td>\n      <td>0.1628</td>\n      <td>0.2572</td>\n      <td>0.06637</td>\n    </tr>\n    <tr>\n      <th>566</th>\n      <td>16.60</td>\n      <td>28.08</td>\n      <td>108.30</td>\n      <td>858.1</td>\n      <td>0.08455</td>\n      <td>0.10230</td>\n      <td>0.09251</td>\n      <td>0.05302</td>\n      <td>0.1590</td>\n      <td>0.05648</td>\n      <td>...</td>\n      <td>18.980</td>\n      <td>34.12</td>\n      <td>126.70</td>\n      <td>1124.0</td>\n      <td>0.11390</td>\n      <td>0.30940</td>\n      <td>0.3403</td>\n      <td>0.1418</td>\n      <td>0.2218</td>\n      <td>0.07820</td>\n    </tr>\n    <tr>\n      <th>567</th>\n      <td>20.60</td>\n      <td>29.33</td>\n      <td>140.10</td>\n      <td>1265.0</td>\n      <td>0.11780</td>\n      <td>0.27700</td>\n      <td>0.35140</td>\n      <td>0.15200</td>\n      <td>0.2397</td>\n      <td>0.07016</td>\n      <td>...</td>\n      <td>25.740</td>\n      <td>39.42</td>\n      <td>184.60</td>\n      <td>1821.0</td>\n      <td>0.16500</td>\n      <td>0.86810</td>\n      <td>0.9387</td>\n      <td>0.2650</td>\n      <td>0.4087</td>\n      <td>0.12400</td>\n    </tr>\n    <tr>\n      <th>568</th>\n      <td>7.76</td>\n      <td>24.54</td>\n      <td>47.92</td>\n      <td>181.0</td>\n      <td>0.05263</td>\n      <td>0.04362</td>\n      <td>0.00000</td>\n      <td>0.00000</td>\n      <td>0.1587</td>\n      <td>0.05884</td>\n      <td>...</td>\n      <td>9.456</td>\n      <td>30.37</td>\n      <td>59.16</td>\n      <td>268.6</td>\n      <td>0.08996</td>\n      <td>0.06444</td>\n      <td>0.0000</td>\n      <td>0.0000</td>\n      <td>0.2871</td>\n      <td>0.07039</td>\n    </tr>\n  </tbody>\n</table>\n<p>569 rows × 30 columns</p>\n</div>"
     },
     "execution_count": 24,
     "metadata": {},
     "output_type": "execute_result"
    }
   ],
   "source": [
    "data = load_breast_cancer()\n",
    "dataset = pd.DataFrame(data = data['data'], columns = data['feature_names'])\n",
    "dataset"
   ],
   "metadata": {
    "collapsed": false,
    "ExecuteTime": {
     "end_time": "2024-04-28T03:49:39.011845800Z",
     "start_time": "2024-04-28T03:49:38.976746200Z"
    }
   },
   "id": "826511cd56e94c"
  },
  {
   "cell_type": "code",
   "execution_count": 25,
   "outputs": [],
   "source": [
    "from sklearn.model_selection import train_test_split\n",
    "X = dataset.copy()\n",
    "y = data['target']\n",
    "X_train, X_test, y_train, y_test = train_test_split(X, y, test_size=0.33)"
   ],
   "metadata": {
    "collapsed": false,
    "ExecuteTime": {
     "end_time": "2024-04-28T03:57:03.231361200Z",
     "start_time": "2024-04-28T03:57:03.216959500Z"
    }
   },
   "id": "5d8650384fa1c731"
  },
  {
   "cell_type": "code",
   "execution_count": 31,
   "outputs": [],
   "source": [
    "from sklearn.tree import DecisionTreeClassifier\n",
    "clf = DecisionTreeClassifier(max_depth=4)\n",
    "clf = clf.fit(X_train, y_train)"
   ],
   "metadata": {
    "collapsed": false,
    "ExecuteTime": {
     "end_time": "2024-04-28T04:05:31.137625200Z",
     "start_time": "2024-04-28T04:05:31.127721200Z"
    }
   },
   "id": "9c93bb54e24b5771"
  },
  {
   "cell_type": "code",
   "execution_count": 32,
   "outputs": [
    {
     "data": {
      "text/plain": "{'ccp_alpha': 0.0,\n 'class_weight': None,\n 'criterion': 'gini',\n 'max_depth': 4,\n 'max_features': None,\n 'max_leaf_nodes': None,\n 'min_impurity_decrease': 0.0,\n 'min_samples_leaf': 1,\n 'min_samples_split': 2,\n 'min_weight_fraction_leaf': 0.0,\n 'random_state': None,\n 'splitter': 'best'}"
     },
     "execution_count": 32,
     "metadata": {},
     "output_type": "execute_result"
    }
   ],
   "source": [
    "clf.get_params()"
   ],
   "metadata": {
    "collapsed": false,
    "ExecuteTime": {
     "end_time": "2024-04-28T04:05:32.440017400Z",
     "start_time": "2024-04-28T04:05:32.417221Z"
    }
   },
   "id": "353bbfd8fb3f32d2"
  },
  {
   "cell_type": "code",
   "execution_count": 28,
   "outputs": [
    {
     "data": {
      "text/plain": "     mean radius  mean texture  mean perimeter  mean area  mean smoothness  \\\n368       21.710         17.25          140.90     1546.0          0.09384   \n492       18.010         20.56          118.40     1007.0          0.10010   \n453       14.530         13.98           93.86      644.2          0.10990   \n548        9.683         19.34           61.05      285.7          0.08491   \n415       11.890         21.17           76.39      433.8          0.09773   \n..           ...           ...             ...        ...              ...   \n251       11.500         18.45           73.28      407.4          0.09345   \n55        11.520         18.75           73.34      409.0          0.09524   \n423       13.660         19.13           89.46      575.3          0.09057   \n366       20.200         26.83          133.70     1234.0          0.09905   \n521       24.630         21.60          165.50     1841.0          0.10300   \n\n     mean compactness  mean concavity  mean concave points  mean symmetry  \\\n368           0.08562         0.11680             0.084650         0.1717   \n492           0.12890         0.11700             0.077620         0.2116   \n453           0.09242         0.06895             0.064950         0.1650   \n548           0.05030         0.02337             0.009615         0.1580   \n415           0.08120         0.02555             0.021790         0.2019   \n..                ...             ...                  ...            ...   \n251           0.05991         0.02638             0.020690         0.1834   \n55            0.05473         0.03036             0.022780         0.1920   \n423           0.11470         0.09657             0.048120         0.1848   \n366           0.16690         0.16410             0.126500         0.1875   \n521           0.21060         0.23100             0.147100         0.1991   \n\n     mean fractal dimension  ...  worst radius  worst texture  \\\n368                 0.05054  ...         30.75          26.44   \n492                 0.06077  ...         21.53          26.06   \n453                 0.06121  ...         15.80          16.93   \n548                 0.06235  ...         10.93          25.59   \n415                 0.06290  ...         13.05          27.21   \n..                      ...  ...           ...            ...   \n251                 0.05934  ...         12.97          22.46   \n55                  0.05907  ...         12.84          22.47   \n423                 0.06181  ...         15.14          25.50   \n366                 0.06020  ...         24.19          33.81   \n521                 0.06739  ...         29.92          26.93   \n\n     worst perimeter  worst area  worst smoothness  worst compactness  \\\n368           199.50      3143.0            0.1363            0.16280   \n492           143.40      1426.0            0.1309            0.23270   \n453           103.10       749.9            0.1347            0.14780   \n548            69.10       364.2            0.1199            0.09546   \n415            85.09       522.9            0.1426            0.21870   \n..               ...         ...               ...                ...   \n251            83.12       508.9            0.1183            0.10490   \n55             81.81       506.2            0.1249            0.08720   \n423           101.40       708.8            0.1147            0.31670   \n366           160.00      1671.0            0.1278            0.34160   \n521           205.70      2642.0            0.1342            0.41880   \n\n     worst concavity  worst concave points  worst symmetry  \\\n368          0.28610               0.18200          0.2510   \n492          0.25440               0.14890          0.3251   \n453          0.13730               0.10690          0.2606   \n548          0.09350               0.03846          0.2552   \n415          0.11640               0.08263          0.3075   \n..               ...                   ...             ...   \n251          0.08105               0.06544          0.2740   \n55           0.09076               0.06316          0.3306   \n423          0.36600               0.14070          0.2744   \n366          0.37030               0.21520          0.3271   \n521          0.46580               0.24750          0.3157   \n\n     worst fractal dimension  \n368                  0.06494  \n492                  0.07625  \n453                  0.07810  \n548                  0.07920  \n415                  0.07351  \n..                       ...  \n251                  0.06487  \n55                   0.07036  \n423                  0.08839  \n366                  0.07632  \n521                  0.09671  \n\n[188 rows x 30 columns]",
      "text/html": "<div>\n<style scoped>\n    .dataframe tbody tr th:only-of-type {\n        vertical-align: middle;\n    }\n\n    .dataframe tbody tr th {\n        vertical-align: top;\n    }\n\n    .dataframe thead th {\n        text-align: right;\n    }\n</style>\n<table border=\"1\" class=\"dataframe\">\n  <thead>\n    <tr style=\"text-align: right;\">\n      <th></th>\n      <th>mean radius</th>\n      <th>mean texture</th>\n      <th>mean perimeter</th>\n      <th>mean area</th>\n      <th>mean smoothness</th>\n      <th>mean compactness</th>\n      <th>mean concavity</th>\n      <th>mean concave points</th>\n      <th>mean symmetry</th>\n      <th>mean fractal dimension</th>\n      <th>...</th>\n      <th>worst radius</th>\n      <th>worst texture</th>\n      <th>worst perimeter</th>\n      <th>worst area</th>\n      <th>worst smoothness</th>\n      <th>worst compactness</th>\n      <th>worst concavity</th>\n      <th>worst concave points</th>\n      <th>worst symmetry</th>\n      <th>worst fractal dimension</th>\n    </tr>\n  </thead>\n  <tbody>\n    <tr>\n      <th>368</th>\n      <td>21.710</td>\n      <td>17.25</td>\n      <td>140.90</td>\n      <td>1546.0</td>\n      <td>0.09384</td>\n      <td>0.08562</td>\n      <td>0.11680</td>\n      <td>0.084650</td>\n      <td>0.1717</td>\n      <td>0.05054</td>\n      <td>...</td>\n      <td>30.75</td>\n      <td>26.44</td>\n      <td>199.50</td>\n      <td>3143.0</td>\n      <td>0.1363</td>\n      <td>0.16280</td>\n      <td>0.28610</td>\n      <td>0.18200</td>\n      <td>0.2510</td>\n      <td>0.06494</td>\n    </tr>\n    <tr>\n      <th>492</th>\n      <td>18.010</td>\n      <td>20.56</td>\n      <td>118.40</td>\n      <td>1007.0</td>\n      <td>0.10010</td>\n      <td>0.12890</td>\n      <td>0.11700</td>\n      <td>0.077620</td>\n      <td>0.2116</td>\n      <td>0.06077</td>\n      <td>...</td>\n      <td>21.53</td>\n      <td>26.06</td>\n      <td>143.40</td>\n      <td>1426.0</td>\n      <td>0.1309</td>\n      <td>0.23270</td>\n      <td>0.25440</td>\n      <td>0.14890</td>\n      <td>0.3251</td>\n      <td>0.07625</td>\n    </tr>\n    <tr>\n      <th>453</th>\n      <td>14.530</td>\n      <td>13.98</td>\n      <td>93.86</td>\n      <td>644.2</td>\n      <td>0.10990</td>\n      <td>0.09242</td>\n      <td>0.06895</td>\n      <td>0.064950</td>\n      <td>0.1650</td>\n      <td>0.06121</td>\n      <td>...</td>\n      <td>15.80</td>\n      <td>16.93</td>\n      <td>103.10</td>\n      <td>749.9</td>\n      <td>0.1347</td>\n      <td>0.14780</td>\n      <td>0.13730</td>\n      <td>0.10690</td>\n      <td>0.2606</td>\n      <td>0.07810</td>\n    </tr>\n    <tr>\n      <th>548</th>\n      <td>9.683</td>\n      <td>19.34</td>\n      <td>61.05</td>\n      <td>285.7</td>\n      <td>0.08491</td>\n      <td>0.05030</td>\n      <td>0.02337</td>\n      <td>0.009615</td>\n      <td>0.1580</td>\n      <td>0.06235</td>\n      <td>...</td>\n      <td>10.93</td>\n      <td>25.59</td>\n      <td>69.10</td>\n      <td>364.2</td>\n      <td>0.1199</td>\n      <td>0.09546</td>\n      <td>0.09350</td>\n      <td>0.03846</td>\n      <td>0.2552</td>\n      <td>0.07920</td>\n    </tr>\n    <tr>\n      <th>415</th>\n      <td>11.890</td>\n      <td>21.17</td>\n      <td>76.39</td>\n      <td>433.8</td>\n      <td>0.09773</td>\n      <td>0.08120</td>\n      <td>0.02555</td>\n      <td>0.021790</td>\n      <td>0.2019</td>\n      <td>0.06290</td>\n      <td>...</td>\n      <td>13.05</td>\n      <td>27.21</td>\n      <td>85.09</td>\n      <td>522.9</td>\n      <td>0.1426</td>\n      <td>0.21870</td>\n      <td>0.11640</td>\n      <td>0.08263</td>\n      <td>0.3075</td>\n      <td>0.07351</td>\n    </tr>\n    <tr>\n      <th>...</th>\n      <td>...</td>\n      <td>...</td>\n      <td>...</td>\n      <td>...</td>\n      <td>...</td>\n      <td>...</td>\n      <td>...</td>\n      <td>...</td>\n      <td>...</td>\n      <td>...</td>\n      <td>...</td>\n      <td>...</td>\n      <td>...</td>\n      <td>...</td>\n      <td>...</td>\n      <td>...</td>\n      <td>...</td>\n      <td>...</td>\n      <td>...</td>\n      <td>...</td>\n      <td>...</td>\n    </tr>\n    <tr>\n      <th>251</th>\n      <td>11.500</td>\n      <td>18.45</td>\n      <td>73.28</td>\n      <td>407.4</td>\n      <td>0.09345</td>\n      <td>0.05991</td>\n      <td>0.02638</td>\n      <td>0.020690</td>\n      <td>0.1834</td>\n      <td>0.05934</td>\n      <td>...</td>\n      <td>12.97</td>\n      <td>22.46</td>\n      <td>83.12</td>\n      <td>508.9</td>\n      <td>0.1183</td>\n      <td>0.10490</td>\n      <td>0.08105</td>\n      <td>0.06544</td>\n      <td>0.2740</td>\n      <td>0.06487</td>\n    </tr>\n    <tr>\n      <th>55</th>\n      <td>11.520</td>\n      <td>18.75</td>\n      <td>73.34</td>\n      <td>409.0</td>\n      <td>0.09524</td>\n      <td>0.05473</td>\n      <td>0.03036</td>\n      <td>0.022780</td>\n      <td>0.1920</td>\n      <td>0.05907</td>\n      <td>...</td>\n      <td>12.84</td>\n      <td>22.47</td>\n      <td>81.81</td>\n      <td>506.2</td>\n      <td>0.1249</td>\n      <td>0.08720</td>\n      <td>0.09076</td>\n      <td>0.06316</td>\n      <td>0.3306</td>\n      <td>0.07036</td>\n    </tr>\n    <tr>\n      <th>423</th>\n      <td>13.660</td>\n      <td>19.13</td>\n      <td>89.46</td>\n      <td>575.3</td>\n      <td>0.09057</td>\n      <td>0.11470</td>\n      <td>0.09657</td>\n      <td>0.048120</td>\n      <td>0.1848</td>\n      <td>0.06181</td>\n      <td>...</td>\n      <td>15.14</td>\n      <td>25.50</td>\n      <td>101.40</td>\n      <td>708.8</td>\n      <td>0.1147</td>\n      <td>0.31670</td>\n      <td>0.36600</td>\n      <td>0.14070</td>\n      <td>0.2744</td>\n      <td>0.08839</td>\n    </tr>\n    <tr>\n      <th>366</th>\n      <td>20.200</td>\n      <td>26.83</td>\n      <td>133.70</td>\n      <td>1234.0</td>\n      <td>0.09905</td>\n      <td>0.16690</td>\n      <td>0.16410</td>\n      <td>0.126500</td>\n      <td>0.1875</td>\n      <td>0.06020</td>\n      <td>...</td>\n      <td>24.19</td>\n      <td>33.81</td>\n      <td>160.00</td>\n      <td>1671.0</td>\n      <td>0.1278</td>\n      <td>0.34160</td>\n      <td>0.37030</td>\n      <td>0.21520</td>\n      <td>0.3271</td>\n      <td>0.07632</td>\n    </tr>\n    <tr>\n      <th>521</th>\n      <td>24.630</td>\n      <td>21.60</td>\n      <td>165.50</td>\n      <td>1841.0</td>\n      <td>0.10300</td>\n      <td>0.21060</td>\n      <td>0.23100</td>\n      <td>0.147100</td>\n      <td>0.1991</td>\n      <td>0.06739</td>\n      <td>...</td>\n      <td>29.92</td>\n      <td>26.93</td>\n      <td>205.70</td>\n      <td>2642.0</td>\n      <td>0.1342</td>\n      <td>0.41880</td>\n      <td>0.46580</td>\n      <td>0.24750</td>\n      <td>0.3157</td>\n      <td>0.09671</td>\n    </tr>\n  </tbody>\n</table>\n<p>188 rows × 30 columns</p>\n</div>"
     },
     "execution_count": 28,
     "metadata": {},
     "output_type": "execute_result"
    }
   ],
   "source": [
    "X_test"
   ],
   "metadata": {
    "collapsed": false,
    "ExecuteTime": {
     "end_time": "2024-04-28T03:59:43.016292800Z",
     "start_time": "2024-04-28T03:59:42.993959600Z"
    }
   },
   "id": "719593be0cc173e7"
  },
  {
   "cell_type": "code",
   "execution_count": 35,
   "outputs": [
    {
     "data": {
      "text/plain": "array([0, 0, 1, 1, 1, 1, 1, 0, 1, 0, 1, 0, 1, 1, 1, 1, 1, 1, 1, 1, 1, 1,\n       0, 0, 1, 0, 0, 1, 1, 1, 1, 0, 1, 1, 1, 1, 0, 1, 0, 0, 1, 0, 0, 1,\n       1, 1, 0, 0, 0, 1, 0, 0, 0, 1, 0, 0, 1, 1, 0, 0, 1, 0, 1, 1, 0, 1,\n       0, 1, 0, 1, 1, 1, 1, 0, 0, 1, 1, 1, 0, 1, 1, 0, 0, 0, 0, 1, 0, 1,\n       1, 1, 0, 1, 1, 1, 0, 1, 1, 1, 1, 0, 0, 1, 0, 0, 1, 1, 0, 1, 0, 0,\n       1, 0, 1, 0, 1, 1, 1, 1, 1, 0, 0, 1, 1, 1, 1, 0, 1, 1, 0, 0, 1, 0,\n       1, 0, 1, 1, 0, 1, 1, 1, 0, 1, 1, 1, 1, 1, 0, 1, 1, 1, 0, 1, 0, 1,\n       0, 1, 0, 0, 1, 0, 1, 0, 1, 1, 1, 0, 1, 0, 1, 1, 1, 0, 1, 1, 1, 1,\n       1, 1, 1, 1, 1, 1, 1, 1, 1, 1, 0, 0])"
     },
     "execution_count": 35,
     "metadata": {},
     "output_type": "execute_result"
    }
   ],
   "source": [
    "prediction = clf.predict(X_test)\n",
    "prediction"
   ],
   "metadata": {
    "collapsed": false,
    "ExecuteTime": {
     "end_time": "2024-04-28T04:06:05.182835Z",
     "start_time": "2024-04-28T04:06:05.157314500Z"
    }
   },
   "id": "bddd0433e909b435"
  },
  {
   "cell_type": "code",
   "execution_count": 36,
   "outputs": [
    {
     "data": {
      "text/plain": "array([[1.        , 0.        ],\n       [1.        , 0.        ],\n       [0.00865801, 0.99134199],\n       [0.00865801, 0.99134199],\n       [0.00865801, 0.99134199],\n       [0.00865801, 0.99134199],\n       [0.00865801, 0.99134199],\n       [1.        , 0.        ],\n       [0.00865801, 0.99134199],\n       [1.        , 0.        ],\n       [0.00865801, 0.99134199],\n       [1.        , 0.        ],\n       [0.00865801, 0.99134199],\n       [0.00865801, 0.99134199],\n       [0.00865801, 0.99134199],\n       [0.        , 1.        ],\n       [0.00865801, 0.99134199],\n       [0.00865801, 0.99134199],\n       [0.00865801, 0.99134199],\n       [0.        , 1.        ],\n       [0.00865801, 0.99134199],\n       [0.00865801, 0.99134199],\n       [1.        , 0.        ],\n       [1.        , 0.        ],\n       [0.00865801, 0.99134199],\n       [1.        , 0.        ],\n       [1.        , 0.        ],\n       [0.        , 1.        ],\n       [0.        , 1.        ],\n       [0.00865801, 0.99134199],\n       [0.00865801, 0.99134199],\n       [1.        , 0.        ],\n       [0.00865801, 0.99134199],\n       [0.00865801, 0.99134199],\n       [0.00865801, 0.99134199],\n       [0.00865801, 0.99134199],\n       [1.        , 0.        ],\n       [0.00865801, 0.99134199],\n       [1.        , 0.        ],\n       [1.        , 0.        ],\n       [0.00865801, 0.99134199],\n       [1.        , 0.        ],\n       [1.        , 0.        ],\n       [0.00865801, 0.99134199],\n       [0.00865801, 0.99134199],\n       [0.00865801, 0.99134199],\n       [1.        , 0.        ],\n       [1.        , 0.        ],\n       [1.        , 0.        ],\n       [0.14285714, 0.85714286],\n       [1.        , 0.        ],\n       [1.        , 0.        ],\n       [1.        , 0.        ],\n       [0.14285714, 0.85714286],\n       [1.        , 0.        ],\n       [1.        , 0.        ],\n       [0.00865801, 0.99134199],\n       [0.        , 1.        ],\n       [1.        , 0.        ],\n       [1.        , 0.        ],\n       [0.00865801, 0.99134199],\n       [1.        , 0.        ],\n       [0.00865801, 0.99134199],\n       [0.00865801, 0.99134199],\n       [1.        , 0.        ],\n       [0.00865801, 0.99134199],\n       [1.        , 0.        ],\n       [0.00865801, 0.99134199],\n       [1.        , 0.        ],\n       [0.00865801, 0.99134199],\n       [0.00865801, 0.99134199],\n       [0.00865801, 0.99134199],\n       [0.00865801, 0.99134199],\n       [1.        , 0.        ],\n       [1.        , 0.        ],\n       [0.00865801, 0.99134199],\n       [0.00865801, 0.99134199],\n       [0.00865801, 0.99134199],\n       [1.        , 0.        ],\n       [0.00865801, 0.99134199],\n       [0.00865801, 0.99134199],\n       [1.        , 0.        ],\n       [1.        , 0.        ],\n       [1.        , 0.        ],\n       [1.        , 0.        ],\n       [0.00865801, 0.99134199],\n       [1.        , 0.        ],\n       [0.00865801, 0.99134199],\n       [0.00865801, 0.99134199],\n       [0.00865801, 0.99134199],\n       [1.        , 0.        ],\n       [0.14285714, 0.85714286],\n       [0.00865801, 0.99134199],\n       [0.00865801, 0.99134199],\n       [1.        , 0.        ],\n       [0.00865801, 0.99134199],\n       [0.00865801, 0.99134199],\n       [0.00865801, 0.99134199],\n       [0.00865801, 0.99134199],\n       [1.        , 0.        ],\n       [1.        , 0.        ],\n       [0.00865801, 0.99134199],\n       [1.        , 0.        ],\n       [1.        , 0.        ],\n       [0.00865801, 0.99134199],\n       [0.00865801, 0.99134199],\n       [1.        , 0.        ],\n       [0.00865801, 0.99134199],\n       [1.        , 0.        ],\n       [1.        , 0.        ],\n       [0.00865801, 0.99134199],\n       [1.        , 0.        ],\n       [0.00865801, 0.99134199],\n       [1.        , 0.        ],\n       [0.00865801, 0.99134199],\n       [0.00865801, 0.99134199],\n       [0.00865801, 0.99134199],\n       [0.14285714, 0.85714286],\n       [0.00865801, 0.99134199],\n       [1.        , 0.        ],\n       [1.        , 0.        ],\n       [0.00865801, 0.99134199],\n       [0.00865801, 0.99134199],\n       [0.00865801, 0.99134199],\n       [0.00865801, 0.99134199],\n       [1.        , 0.        ],\n       [0.00865801, 0.99134199],\n       [0.00865801, 0.99134199],\n       [1.        , 0.        ],\n       [1.        , 0.        ],\n       [0.00865801, 0.99134199],\n       [1.        , 0.        ],\n       [0.00865801, 0.99134199],\n       [1.        , 0.        ],\n       [0.00865801, 0.99134199],\n       [0.00865801, 0.99134199],\n       [1.        , 0.        ],\n       [0.00865801, 0.99134199],\n       [0.00865801, 0.99134199],\n       [0.00865801, 0.99134199],\n       [1.        , 0.        ],\n       [0.00865801, 0.99134199],\n       [0.00865801, 0.99134199],\n       [0.00865801, 0.99134199],\n       [0.        , 1.        ],\n       [0.14285714, 0.85714286],\n       [1.        , 0.        ],\n       [0.00865801, 0.99134199],\n       [0.00865801, 0.99134199],\n       [0.00865801, 0.99134199],\n       [1.        , 0.        ],\n       [0.00865801, 0.99134199],\n       [1.        , 0.        ],\n       [0.00865801, 0.99134199],\n       [1.        , 0.        ],\n       [0.00865801, 0.99134199],\n       [1.        , 0.        ],\n       [1.        , 0.        ],\n       [0.00865801, 0.99134199],\n       [1.        , 0.        ],\n       [0.00865801, 0.99134199],\n       [1.        , 0.        ],\n       [0.00865801, 0.99134199],\n       [0.00865801, 0.99134199],\n       [0.00865801, 0.99134199],\n       [1.        , 0.        ],\n       [0.00865801, 0.99134199],\n       [1.        , 0.        ],\n       [0.00865801, 0.99134199],\n       [0.        , 1.        ],\n       [0.00865801, 0.99134199],\n       [1.        , 0.        ],\n       [0.00865801, 0.99134199],\n       [0.00865801, 0.99134199],\n       [0.00865801, 0.99134199],\n       [0.00865801, 0.99134199],\n       [0.00865801, 0.99134199],\n       [0.00865801, 0.99134199],\n       [0.00865801, 0.99134199],\n       [0.00865801, 0.99134199],\n       [0.00865801, 0.99134199],\n       [0.14285714, 0.85714286],\n       [0.00865801, 0.99134199],\n       [0.00865801, 0.99134199],\n       [0.00865801, 0.99134199],\n       [0.14285714, 0.85714286],\n       [1.        , 0.        ],\n       [1.        , 0.        ]])"
     },
     "execution_count": 36,
     "metadata": {},
     "output_type": "execute_result"
    }
   ],
   "source": [
    "# show difference between tree with no stopping criteria and one that does\n",
    "clf.predict_proba(X_test)"
   ],
   "metadata": {
    "collapsed": false,
    "ExecuteTime": {
     "end_time": "2024-04-28T04:06:08.632535500Z",
     "start_time": "2024-04-28T04:06:08.624362800Z"
    }
   },
   "id": "847ad52d3a8d236f"
  },
  {
   "cell_type": "code",
   "execution_count": 37,
   "outputs": [
    {
     "data": {
      "text/plain": "0.925531914893617"
     },
     "execution_count": 37,
     "metadata": {},
     "output_type": "execute_result"
    }
   ],
   "source": [
    "from sklearn.metrics import accuracy_score\n",
    "accuracy_score(y_test, prediction)"
   ],
   "metadata": {
    "collapsed": false,
    "ExecuteTime": {
     "end_time": "2024-04-28T04:07:43.523290200Z",
     "start_time": "2024-04-28T04:07:43.514335700Z"
    }
   },
   "id": "9054de9e8e5c7285"
  },
  {
   "cell_type": "code",
   "execution_count": 38,
   "outputs": [
    {
     "data": {
      "text/plain": "array([[ 67,  11],\n       [  3, 107]], dtype=int64)"
     },
     "execution_count": 38,
     "metadata": {},
     "output_type": "execute_result"
    }
   ],
   "source": [
    "from sklearn.metrics import confusion_matrix\n",
    "confusion_matrix(y_test, prediction, labels=[0, 1])"
   ],
   "metadata": {
    "collapsed": false,
    "ExecuteTime": {
     "end_time": "2024-04-28T04:08:54.726886700Z",
     "start_time": "2024-04-28T04:08:54.703255700Z"
    }
   },
   "id": "7c44a9aa53771b77"
  },
  {
   "cell_type": "code",
   "execution_count": 39,
   "outputs": [
    {
     "data": {
      "text/plain": "0.9067796610169492"
     },
     "execution_count": 39,
     "metadata": {},
     "output_type": "execute_result"
    }
   ],
   "source": [
    "from sklearn.metrics import precision_score\n",
    "precision_score(y_test, prediction)"
   ],
   "metadata": {
    "collapsed": false,
    "ExecuteTime": {
     "end_time": "2024-04-28T04:11:10.847667300Z",
     "start_time": "2024-04-28T04:11:10.810291300Z"
    }
   },
   "id": "b6e827dfcc5bd3e4"
  },
  {
   "cell_type": "code",
   "execution_count": 40,
   "outputs": [
    {
     "data": {
      "text/plain": "0.9727272727272728"
     },
     "execution_count": 40,
     "metadata": {},
     "output_type": "execute_result"
    }
   ],
   "source": [
    "from sklearn.metrics import recall_score\n",
    "recall_score(y_test, prediction)"
   ],
   "metadata": {
    "collapsed": false,
    "ExecuteTime": {
     "end_time": "2024-04-28T04:12:21.763842200Z",
     "start_time": "2024-04-28T04:12:21.742322Z"
    }
   },
   "id": "97b6f982ee0acd88"
  },
  {
   "cell_type": "code",
   "execution_count": 41,
   "outputs": [
    {
     "name": "stdout",
     "output_type": "stream",
     "text": [
      "              precision    recall  f1-score   support\n",
      "\n",
      "   malignant       0.96      0.86      0.91        78\n",
      "      benign       0.91      0.97      0.94       110\n",
      "\n",
      "    accuracy                           0.93       188\n",
      "   macro avg       0.93      0.92      0.92       188\n",
      "weighted avg       0.93      0.93      0.92       188\n"
     ]
    }
   ],
   "source": [
    "from sklearn.metrics import classification_report\n",
    "print(classification_report(y_test, prediction, target_names=['malignant', 'benign']))"
   ],
   "metadata": {
    "collapsed": false,
    "ExecuteTime": {
     "end_time": "2024-04-28T04:14:09.212363500Z",
     "start_time": "2024-04-28T04:14:09.178399400Z"
    }
   },
   "id": "8a651d8b036f6dcd"
  },
  {
   "cell_type": "code",
   "execution_count": 43,
   "outputs": [
    {
     "data": {
      "text/plain": "Index(['mean radius', 'mean texture', 'mean perimeter', 'mean area',\n       'mean smoothness', 'mean compactness', 'mean concavity',\n       'mean concave points', 'mean symmetry', 'mean fractal dimension',\n       'radius error', 'texture error', 'perimeter error', 'area error',\n       'smoothness error', 'compactness error', 'concavity error',\n       'concave points error', 'symmetry error', 'fractal dimension error',\n       'worst radius', 'worst texture', 'worst perimeter', 'worst area',\n       'worst smoothness', 'worst compactness', 'worst concavity',\n       'worst concave points', 'worst symmetry', 'worst fractal dimension'],\n      dtype='object')"
     },
     "execution_count": 43,
     "metadata": {},
     "output_type": "execute_result"
    }
   ],
   "source": [
    "feature_names = X.columns\n",
    "feature_names"
   ],
   "metadata": {
    "collapsed": false,
    "ExecuteTime": {
     "end_time": "2024-04-28T04:40:17.318346900Z",
     "start_time": "2024-04-28T04:40:17.287852200Z"
    }
   },
   "id": "4ee9ea4a76a162a1"
  },
  {
   "cell_type": "code",
   "execution_count": 44,
   "outputs": [
    {
     "data": {
      "text/plain": "array([0.02061073, 0.02748098, 0.        , 0.        , 0.        ,\n       0.        , 0.        , 0.        , 0.01191363, 0.        ,\n       0.        , 0.        , 0.01116415, 0.01176471, 0.        ,\n       0.        , 0.        , 0.        , 0.        , 0.        ,\n       0.        , 0.        , 0.        , 0.7444404 , 0.        ,\n       0.        , 0.02502127, 0.14760413, 0.        , 0.        ])"
     },
     "execution_count": 44,
     "metadata": {},
     "output_type": "execute_result"
    }
   ],
   "source": [
    "clf.feature_importances_"
   ],
   "metadata": {
    "collapsed": false,
    "ExecuteTime": {
     "end_time": "2024-04-28T04:40:43.095380600Z",
     "start_time": "2024-04-28T04:40:43.071078600Z"
    }
   },
   "id": "e88df6f6d02c7737"
  },
  {
   "cell_type": "code",
   "execution_count": 47,
   "outputs": [
    {
     "data": {
      "text/plain": "                                0\nworst area               0.744440\nworst concave points     0.147604\nmean texture             0.027481\nworst concavity          0.025021\nmean radius              0.020611\nmean symmetry            0.011914\narea error               0.011765\nperimeter error          0.011164\nworst smoothness         0.000000\nworst compactness        0.000000\nconcave points error     0.000000\nworst perimeter          0.000000\nworst texture            0.000000\nworst radius             0.000000\nfractal dimension error  0.000000\nworst symmetry           0.000000\nsymmetry error           0.000000\ncompactness error        0.000000\nconcavity error          0.000000\nsmoothness error         0.000000\ntexture error            0.000000\nradius error             0.000000\nmean fractal dimension   0.000000\nmean concave points      0.000000\nmean concavity           0.000000\nmean compactness         0.000000\nmean smoothness          0.000000\nmean area                0.000000\nmean perimeter           0.000000\nworst fractal dimension  0.000000",
      "text/html": "<div>\n<style scoped>\n    .dataframe tbody tr th:only-of-type {\n        vertical-align: middle;\n    }\n\n    .dataframe tbody tr th {\n        vertical-align: top;\n    }\n\n    .dataframe thead th {\n        text-align: right;\n    }\n</style>\n<table border=\"1\" class=\"dataframe\">\n  <thead>\n    <tr style=\"text-align: right;\">\n      <th></th>\n      <th>0</th>\n    </tr>\n  </thead>\n  <tbody>\n    <tr>\n      <th>worst area</th>\n      <td>0.744440</td>\n    </tr>\n    <tr>\n      <th>worst concave points</th>\n      <td>0.147604</td>\n    </tr>\n    <tr>\n      <th>mean texture</th>\n      <td>0.027481</td>\n    </tr>\n    <tr>\n      <th>worst concavity</th>\n      <td>0.025021</td>\n    </tr>\n    <tr>\n      <th>mean radius</th>\n      <td>0.020611</td>\n    </tr>\n    <tr>\n      <th>mean symmetry</th>\n      <td>0.011914</td>\n    </tr>\n    <tr>\n      <th>area error</th>\n      <td>0.011765</td>\n    </tr>\n    <tr>\n      <th>perimeter error</th>\n      <td>0.011164</td>\n    </tr>\n    <tr>\n      <th>worst smoothness</th>\n      <td>0.000000</td>\n    </tr>\n    <tr>\n      <th>worst compactness</th>\n      <td>0.000000</td>\n    </tr>\n    <tr>\n      <th>concave points error</th>\n      <td>0.000000</td>\n    </tr>\n    <tr>\n      <th>worst perimeter</th>\n      <td>0.000000</td>\n    </tr>\n    <tr>\n      <th>worst texture</th>\n      <td>0.000000</td>\n    </tr>\n    <tr>\n      <th>worst radius</th>\n      <td>0.000000</td>\n    </tr>\n    <tr>\n      <th>fractal dimension error</th>\n      <td>0.000000</td>\n    </tr>\n    <tr>\n      <th>worst symmetry</th>\n      <td>0.000000</td>\n    </tr>\n    <tr>\n      <th>symmetry error</th>\n      <td>0.000000</td>\n    </tr>\n    <tr>\n      <th>compactness error</th>\n      <td>0.000000</td>\n    </tr>\n    <tr>\n      <th>concavity error</th>\n      <td>0.000000</td>\n    </tr>\n    <tr>\n      <th>smoothness error</th>\n      <td>0.000000</td>\n    </tr>\n    <tr>\n      <th>texture error</th>\n      <td>0.000000</td>\n    </tr>\n    <tr>\n      <th>radius error</th>\n      <td>0.000000</td>\n    </tr>\n    <tr>\n      <th>mean fractal dimension</th>\n      <td>0.000000</td>\n    </tr>\n    <tr>\n      <th>mean concave points</th>\n      <td>0.000000</td>\n    </tr>\n    <tr>\n      <th>mean concavity</th>\n      <td>0.000000</td>\n    </tr>\n    <tr>\n      <th>mean compactness</th>\n      <td>0.000000</td>\n    </tr>\n    <tr>\n      <th>mean smoothness</th>\n      <td>0.000000</td>\n    </tr>\n    <tr>\n      <th>mean area</th>\n      <td>0.000000</td>\n    </tr>\n    <tr>\n      <th>mean perimeter</th>\n      <td>0.000000</td>\n    </tr>\n    <tr>\n      <th>worst fractal dimension</th>\n      <td>0.000000</td>\n    </tr>\n  </tbody>\n</table>\n</div>"
     },
     "execution_count": 47,
     "metadata": {},
     "output_type": "execute_result"
    }
   ],
   "source": [
    "feature_importance = pd.DataFrame(clf.feature_importances_, index= feature_names).sort_values(0, ascending=False)\n",
    "feature_importance"
   ],
   "metadata": {
    "collapsed": false,
    "ExecuteTime": {
     "end_time": "2024-04-28T04:44:02.943936400Z",
     "start_time": "2024-04-28T04:44:02.935508200Z"
    }
   },
   "id": "6880e2d49b9c2b71"
  },
  {
   "cell_type": "code",
   "execution_count": 48,
   "outputs": [
    {
     "data": {
      "text/plain": "<Axes: >"
     },
     "execution_count": 48,
     "metadata": {},
     "output_type": "execute_result"
    },
    {
     "data": {
      "text/plain": "<Figure size 640x480 with 1 Axes>",
      "image/png": "[encoded data removed]"
     },
     "metadata": {},
     "output_type": "display_data"
    }
   ],
   "source": [
    "feature_importance.head(10).plot(kind='bar')"
   ],
   "metadata": {
    "collapsed": false,
    "ExecuteTime": {
     "end_time": "2024-04-28T04:45:29.442623Z",
     "start_time": "2024-04-28T04:45:29.079267800Z"
    }
   },
   "id": "17cd6638f0cd8c90"
  },
  {
   "cell_type": "code",
   "execution_count": 56,
   "outputs": [],
   "source": [
    "feature = list(feature_importance[feature_importance[0]>0].index)"
   ],
   "metadata": {
    "collapsed": false,
    "ExecuteTime": {
     "end_time": "2024-04-28T04:53:34.910783900Z",
     "start_time": "2024-04-28T04:53:34.894787500Z"
    }
   },
   "id": "4984f5d681201bf0"
  },
  {
   "cell_type": "code",
   "execution_count": 57,
   "outputs": [
    {
     "ename": "InvalidParameterError",
     "evalue": "The 'class_names' parameter of plot_tree must be an instance of 'list' or None. Got {0: 'Malignant', 1: 'Benign'} instead.",
     "output_type": "error",
     "traceback": [
      "\u001B[1;31m---------------------------------------------------------------------------\u001B[0m",
      "\u001B[1;31mInvalidParameterError\u001B[0m                     Traceback (most recent call last)",
      "Cell \u001B[1;32mIn[57], line 6\u001B[0m\n\u001B[0;32m      3\u001B[0m \u001B[38;5;28;01mfrom\u001B[39;00m \u001B[38;5;21;01mmatplotlib\u001B[39;00m \u001B[38;5;28;01mimport\u001B[39;00m pyplot \u001B[38;5;28;01mas\u001B[39;00m plt\n\u001B[0;32m      5\u001B[0m fig \u001B[38;5;241m=\u001B[39m plt\u001B[38;5;241m.\u001B[39mfigure(figsize\u001B[38;5;241m=\u001B[39m(\u001B[38;5;241m25\u001B[39m,\u001B[38;5;241m20\u001B[39m))\n\u001B[1;32m----> 6\u001B[0m _ \u001B[38;5;241m=\u001B[39m tree\u001B[38;5;241m.\u001B[39mplot_tree(clf, \n\u001B[0;32m      7\u001B[0m                    feature_names\u001B[38;5;241m=\u001B[39mfeature,  \n\u001B[0;32m      8\u001B[0m                    class_names\u001B[38;5;241m=\u001B[39m{\u001B[38;5;241m0\u001B[39m:\u001B[38;5;124m'\u001B[39m\u001B[38;5;124mMalignant\u001B[39m\u001B[38;5;124m'\u001B[39m, \u001B[38;5;241m1\u001B[39m:\u001B[38;5;124m'\u001B[39m\u001B[38;5;124mBenign\u001B[39m\u001B[38;5;124m'\u001B[39m},\n\u001B[0;32m      9\u001B[0m                    filled\u001B[38;5;241m=\u001B[39m\u001B[38;5;28;01mTrue\u001B[39;00m,\n\u001B[0;32m     10\u001B[0m                   fontsize\u001B[38;5;241m=\u001B[39m\u001B[38;5;241m12\u001B[39m)\n",
      "File \u001B[1;32m~\\anaconda3\\Lib\\site-packages\\sklearn\\utils\\_param_validation.py:201\u001B[0m, in \u001B[0;36mvalidate_params.<locals>.decorator.<locals>.wrapper\u001B[1;34m(*args, **kwargs)\u001B[0m\n\u001B[0;32m    198\u001B[0m to_ignore \u001B[38;5;241m+\u001B[39m\u001B[38;5;241m=\u001B[39m [\u001B[38;5;124m\"\u001B[39m\u001B[38;5;124mself\u001B[39m\u001B[38;5;124m\"\u001B[39m, \u001B[38;5;124m\"\u001B[39m\u001B[38;5;124mcls\u001B[39m\u001B[38;5;124m\"\u001B[39m]\n\u001B[0;32m    199\u001B[0m params \u001B[38;5;241m=\u001B[39m {k: v \u001B[38;5;28;01mfor\u001B[39;00m k, v \u001B[38;5;129;01min\u001B[39;00m params\u001B[38;5;241m.\u001B[39marguments\u001B[38;5;241m.\u001B[39mitems() \u001B[38;5;28;01mif\u001B[39;00m k \u001B[38;5;129;01mnot\u001B[39;00m \u001B[38;5;129;01min\u001B[39;00m to_ignore}\n\u001B[1;32m--> 201\u001B[0m validate_parameter_constraints(\n\u001B[0;32m    202\u001B[0m     parameter_constraints, params, caller_name\u001B[38;5;241m=\u001B[39mfunc\u001B[38;5;241m.\u001B[39m\u001B[38;5;18m__qualname__\u001B[39m\n\u001B[0;32m    203\u001B[0m )\n\u001B[0;32m    205\u001B[0m \u001B[38;5;28;01mtry\u001B[39;00m:\n\u001B[0;32m    206\u001B[0m     \u001B[38;5;28;01mwith\u001B[39;00m config_context(\n\u001B[0;32m    207\u001B[0m         skip_parameter_validation\u001B[38;5;241m=\u001B[39m(\n\u001B[0;32m    208\u001B[0m             prefer_skip_nested_validation \u001B[38;5;129;01mor\u001B[39;00m global_skip_validation\n\u001B[0;32m    209\u001B[0m         )\n\u001B[0;32m    210\u001B[0m     ):\n",
      "File \u001B[1;32m~\\anaconda3\\Lib\\site-packages\\sklearn\\utils\\_param_validation.py:95\u001B[0m, in \u001B[0;36mvalidate_parameter_constraints\u001B[1;34m(parameter_constraints, params, caller_name)\u001B[0m\n\u001B[0;32m     89\u001B[0m \u001B[38;5;28;01melse\u001B[39;00m:\n\u001B[0;32m     90\u001B[0m     constraints_str \u001B[38;5;241m=\u001B[39m (\n\u001B[0;32m     91\u001B[0m         \u001B[38;5;124mf\u001B[39m\u001B[38;5;124m\"\u001B[39m\u001B[38;5;132;01m{\u001B[39;00m\u001B[38;5;124m'\u001B[39m\u001B[38;5;124m, \u001B[39m\u001B[38;5;124m'\u001B[39m\u001B[38;5;241m.\u001B[39mjoin([\u001B[38;5;28mstr\u001B[39m(c)\u001B[38;5;250m \u001B[39m\u001B[38;5;28;01mfor\u001B[39;00m\u001B[38;5;250m \u001B[39mc\u001B[38;5;250m \u001B[39m\u001B[38;5;129;01min\u001B[39;00m\u001B[38;5;250m \u001B[39mconstraints[:\u001B[38;5;241m-\u001B[39m\u001B[38;5;241m1\u001B[39m]])\u001B[38;5;132;01m}\u001B[39;00m\u001B[38;5;124m or\u001B[39m\u001B[38;5;124m\"\u001B[39m\n\u001B[0;32m     92\u001B[0m         \u001B[38;5;124mf\u001B[39m\u001B[38;5;124m\"\u001B[39m\u001B[38;5;124m \u001B[39m\u001B[38;5;132;01m{\u001B[39;00mconstraints[\u001B[38;5;241m-\u001B[39m\u001B[38;5;241m1\u001B[39m]\u001B[38;5;132;01m}\u001B[39;00m\u001B[38;5;124m\"\u001B[39m\n\u001B[0;32m     93\u001B[0m     )\n\u001B[1;32m---> 95\u001B[0m \u001B[38;5;28;01mraise\u001B[39;00m InvalidParameterError(\n\u001B[0;32m     96\u001B[0m     \u001B[38;5;124mf\u001B[39m\u001B[38;5;124m\"\u001B[39m\u001B[38;5;124mThe \u001B[39m\u001B[38;5;132;01m{\u001B[39;00mparam_name\u001B[38;5;132;01m!r}\u001B[39;00m\u001B[38;5;124m parameter of \u001B[39m\u001B[38;5;132;01m{\u001B[39;00mcaller_name\u001B[38;5;132;01m}\u001B[39;00m\u001B[38;5;124m must be\u001B[39m\u001B[38;5;124m\"\u001B[39m\n\u001B[0;32m     97\u001B[0m     \u001B[38;5;124mf\u001B[39m\u001B[38;5;124m\"\u001B[39m\u001B[38;5;124m \u001B[39m\u001B[38;5;132;01m{\u001B[39;00mconstraints_str\u001B[38;5;132;01m}\u001B[39;00m\u001B[38;5;124m. Got \u001B[39m\u001B[38;5;132;01m{\u001B[39;00mparam_val\u001B[38;5;132;01m!r}\u001B[39;00m\u001B[38;5;124m instead.\u001B[39m\u001B[38;5;124m\"\u001B[39m\n\u001B[0;32m     98\u001B[0m )\n",
      "\u001B[1;31mInvalidParameterError\u001B[0m: The 'class_names' parameter of plot_tree must be an instance of 'list' or None. Got {0: 'Malignant', 1: 'Benign'} instead."
     ]
    },
    {
     "data": {
      "text/plain": "<Figure size 2500x2000 with 0 Axes>"
     },
     "metadata": {},
     "output_type": "display_data"
    }
   ],
   "source": [
    "#plot the tree\n",
    "from sklearn import tree\n",
    "from matplotlib import pyplot as plt\n",
    "\n",
    "fig = plt.figure(figsize=(25,20))\n",
    "_ = tree.plot_tree(clf, \n",
    "                   feature_names=feature,  \n",
    "                   class_names={0:'Malignant', 1:'Benign'},\n",
    "                   filled=True,\n",
    "                  fontsize=12)"
   ],
   "metadata": {
    "collapsed": false,
    "ExecuteTime": {
     "end_time": "2024-04-28T04:53:37.196034100Z",
     "start_time": "2024-04-28T04:53:37.147437300Z"
    }
   },
   "id": "1db4f9619f68a908"
  },
  {
   "cell_type": "code",
   "execution_count": 53,
   "outputs": [],
   "source": [],
   "metadata": {
    "collapsed": false,
    "ExecuteTime": {
     "end_time": "2024-04-28T04:53:02.582858Z",
     "start_time": "2024-04-28T04:53:02.560343200Z"
    }
   },
   "id": "e0743cc6cf20fe10"
  },
  {
   "cell_type": "code",
   "execution_count": null,
   "outputs": [],
   "source": [],
   "metadata": {
    "collapsed": false
   },
   "id": "9dea8d63605aafa6"
  }
 ],
 "metadata": {
  "kernelspec": {
   "display_name": "Python 3",
   "language": "python",
   "name": "python3"
  },
  "language_info": {
   "codemirror_mode": {
    "name": "ipython",
    "version": 2
   },
   "file_extension": ".py",
   "mimetype": "text/x-python",
   "name": "python",
   "nbconvert_exporter": "python",
   "pygments_lexer": "ipython2",
   "version": "2.7.6"
  }
 },
 "nbformat": 4,
 "nbformat_minor": 5
}
